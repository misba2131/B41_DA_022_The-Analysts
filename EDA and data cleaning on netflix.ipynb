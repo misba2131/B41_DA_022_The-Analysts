{
 "cells": [
  {
   "cell_type": "code",
   "execution_count": 83,
   "id": "d524f183-7038-442b-aff8-7f1e4d0d12de",
   "metadata": {},
   "outputs": [],
   "source": [
    "import pandas as pd\n",
    "import seaborn as sns\n",
    "import matplotlib.pyplot as plt\n",
    "import warnings\n",
    "warnings.filterwarnings('ignore')# filter out warnings"
   ]
  },
  {
   "cell_type": "code",
   "execution_count": 85,
   "id": "1434f897-8281-4f8b-8a3b-77455ee0bcd1",
   "metadata": {},
   "outputs": [
    {
     "data": {
      "text/html": [
       "<div>\n",
       "<style scoped>\n",
       "    .dataframe tbody tr th:only-of-type {\n",
       "        vertical-align: middle;\n",
       "    }\n",
       "\n",
       "    .dataframe tbody tr th {\n",
       "        vertical-align: top;\n",
       "    }\n",
       "\n",
       "    .dataframe thead th {\n",
       "        text-align: right;\n",
       "    }\n",
       "</style>\n",
       "<table border=\"1\" class=\"dataframe\">\n",
       "  <thead>\n",
       "    <tr style=\"text-align: right;\">\n",
       "      <th></th>\n",
       "      <th>title</th>\n",
       "      <th>type</th>\n",
       "      <th>genres</th>\n",
       "      <th>releaseYear</th>\n",
       "      <th>imdbId</th>\n",
       "      <th>imdbAverageRating</th>\n",
       "      <th>imdbNumVotes</th>\n",
       "      <th>availableCountries</th>\n",
       "    </tr>\n",
       "  </thead>\n",
       "  <tbody>\n",
       "    <tr>\n",
       "      <th>0</th>\n",
       "      <td>Forrest Gump</td>\n",
       "      <td>movie</td>\n",
       "      <td>Drama, Romance</td>\n",
       "      <td>1994.0</td>\n",
       "      <td>tt0109830</td>\n",
       "      <td>8.8</td>\n",
       "      <td>2316353.0</td>\n",
       "      <td>MX</td>\n",
       "    </tr>\n",
       "    <tr>\n",
       "      <th>1</th>\n",
       "      <td>The Fifth Element</td>\n",
       "      <td>movie</td>\n",
       "      <td>Action, Adventure, Sci-Fi</td>\n",
       "      <td>1997.0</td>\n",
       "      <td>tt0119116</td>\n",
       "      <td>7.6</td>\n",
       "      <td>517121.0</td>\n",
       "      <td>AT, CH, DE</td>\n",
       "    </tr>\n",
       "    <tr>\n",
       "      <th>2</th>\n",
       "      <td>Kill Bill: Vol. 1</td>\n",
       "      <td>movie</td>\n",
       "      <td>Action, Crime, Thriller</td>\n",
       "      <td>2003.0</td>\n",
       "      <td>tt0266697</td>\n",
       "      <td>8.2</td>\n",
       "      <td>1221791.0</td>\n",
       "      <td>AE, AL, AO, AT, AU, AZ, BG, BH, BY, CA, CI, CM...</td>\n",
       "    </tr>\n",
       "    <tr>\n",
       "      <th>3</th>\n",
       "      <td>Jarhead</td>\n",
       "      <td>movie</td>\n",
       "      <td>Biography, Drama, War</td>\n",
       "      <td>2005.0</td>\n",
       "      <td>tt0418763</td>\n",
       "      <td>7.0</td>\n",
       "      <td>211547.0</td>\n",
       "      <td>AD, AE, AG, AL, AO, AR, AT, AZ, BA, BB, BG, BH...</td>\n",
       "    </tr>\n",
       "    <tr>\n",
       "      <th>4</th>\n",
       "      <td>Unforgiven</td>\n",
       "      <td>movie</td>\n",
       "      <td>Drama, Western</td>\n",
       "      <td>1992.0</td>\n",
       "      <td>tt0105695</td>\n",
       "      <td>8.2</td>\n",
       "      <td>443775.0</td>\n",
       "      <td>AU, BA, BG, CZ, HR, HU, MD, ME, MK, NZ, PL, RO...</td>\n",
       "    </tr>\n",
       "  </tbody>\n",
       "</table>\n",
       "</div>"
      ],
      "text/plain": [
       "               title   type                     genres  releaseYear  \\\n",
       "0       Forrest Gump  movie             Drama, Romance       1994.0   \n",
       "1  The Fifth Element  movie  Action, Adventure, Sci-Fi       1997.0   \n",
       "2  Kill Bill: Vol. 1  movie    Action, Crime, Thriller       2003.0   \n",
       "3            Jarhead  movie      Biography, Drama, War       2005.0   \n",
       "4         Unforgiven  movie             Drama, Western       1992.0   \n",
       "\n",
       "      imdbId  imdbAverageRating  imdbNumVotes  \\\n",
       "0  tt0109830                8.8     2316353.0   \n",
       "1  tt0119116                7.6      517121.0   \n",
       "2  tt0266697                8.2     1221791.0   \n",
       "3  tt0418763                7.0      211547.0   \n",
       "4  tt0105695                8.2      443775.0   \n",
       "\n",
       "                                  availableCountries  \n",
       "0                                                 MX  \n",
       "1                                         AT, CH, DE  \n",
       "2  AE, AL, AO, AT, AU, AZ, BG, BH, BY, CA, CI, CM...  \n",
       "3  AD, AE, AG, AL, AO, AR, AT, AZ, BA, BB, BG, BH...  \n",
       "4  AU, BA, BG, CZ, HR, HU, MD, ME, MK, NZ, PL, RO...  "
      ]
     },
     "execution_count": 85,
     "metadata": {},
     "output_type": "execute_result"
    }
   ],
   "source": [
    "df = pd.read_csv(\"project data.csv\")\n",
    "df.head()"
   ]
  },
  {
   "cell_type": "markdown",
   "id": "e5e6c0de-a474-4f84-bc52-ad8c42484b64",
   "metadata": {},
   "source": [
    "# Checking the duplicate values and dropping them\n"
   ]
  },
  {
   "cell_type": "code",
   "execution_count": 87,
   "id": "11e9e158-67d0-44d5-a7c8-82cc3e6e1721",
   "metadata": {},
   "outputs": [
    {
     "data": {
      "text/plain": [
       "84"
      ]
     },
     "execution_count": 87,
     "metadata": {},
     "output_type": "execute_result"
    }
   ],
   "source": [
    "df.duplicated().sum()"
   ]
  },
  {
   "cell_type": "code",
   "execution_count": 89,
   "id": "641090b9-8da3-4d27-b567-adaa35cf4349",
   "metadata": {},
   "outputs": [
    {
     "data": {
      "text/html": [
       "<div>\n",
       "<style scoped>\n",
       "    .dataframe tbody tr th:only-of-type {\n",
       "        vertical-align: middle;\n",
       "    }\n",
       "\n",
       "    .dataframe tbody tr th {\n",
       "        vertical-align: top;\n",
       "    }\n",
       "\n",
       "    .dataframe thead th {\n",
       "        text-align: right;\n",
       "    }\n",
       "</style>\n",
       "<table border=\"1\" class=\"dataframe\">\n",
       "  <thead>\n",
       "    <tr style=\"text-align: right;\">\n",
       "      <th></th>\n",
       "      <th>title</th>\n",
       "      <th>type</th>\n",
       "      <th>genres</th>\n",
       "      <th>releaseYear</th>\n",
       "      <th>imdbId</th>\n",
       "      <th>imdbAverageRating</th>\n",
       "      <th>imdbNumVotes</th>\n",
       "      <th>availableCountries</th>\n",
       "    </tr>\n",
       "  </thead>\n",
       "  <tbody>\n",
       "    <tr>\n",
       "      <th>0</th>\n",
       "      <td>Forrest Gump</td>\n",
       "      <td>movie</td>\n",
       "      <td>Drama, Romance</td>\n",
       "      <td>1994.0</td>\n",
       "      <td>tt0109830</td>\n",
       "      <td>8.8</td>\n",
       "      <td>2316353.0</td>\n",
       "      <td>MX</td>\n",
       "    </tr>\n",
       "    <tr>\n",
       "      <th>1</th>\n",
       "      <td>The Fifth Element</td>\n",
       "      <td>movie</td>\n",
       "      <td>Action, Adventure, Sci-Fi</td>\n",
       "      <td>1997.0</td>\n",
       "      <td>tt0119116</td>\n",
       "      <td>7.6</td>\n",
       "      <td>517121.0</td>\n",
       "      <td>AT, CH, DE</td>\n",
       "    </tr>\n",
       "    <tr>\n",
       "      <th>2</th>\n",
       "      <td>Kill Bill: Vol. 1</td>\n",
       "      <td>movie</td>\n",
       "      <td>Action, Crime, Thriller</td>\n",
       "      <td>2003.0</td>\n",
       "      <td>tt0266697</td>\n",
       "      <td>8.2</td>\n",
       "      <td>1221791.0</td>\n",
       "      <td>AE, AL, AO, AT, AU, AZ, BG, BH, BY, CA, CI, CM...</td>\n",
       "    </tr>\n",
       "    <tr>\n",
       "      <th>3</th>\n",
       "      <td>Jarhead</td>\n",
       "      <td>movie</td>\n",
       "      <td>Biography, Drama, War</td>\n",
       "      <td>2005.0</td>\n",
       "      <td>tt0418763</td>\n",
       "      <td>7.0</td>\n",
       "      <td>211547.0</td>\n",
       "      <td>AD, AE, AG, AL, AO, AR, AT, AZ, BA, BB, BG, BH...</td>\n",
       "    </tr>\n",
       "    <tr>\n",
       "      <th>4</th>\n",
       "      <td>Unforgiven</td>\n",
       "      <td>movie</td>\n",
       "      <td>Drama, Western</td>\n",
       "      <td>1992.0</td>\n",
       "      <td>tt0105695</td>\n",
       "      <td>8.2</td>\n",
       "      <td>443775.0</td>\n",
       "      <td>AU, BA, BG, CZ, HR, HU, MD, ME, MK, NZ, PL, RO...</td>\n",
       "    </tr>\n",
       "    <tr>\n",
       "      <th>...</th>\n",
       "      <td>...</td>\n",
       "      <td>...</td>\n",
       "      <td>...</td>\n",
       "      <td>...</td>\n",
       "      <td>...</td>\n",
       "      <td>...</td>\n",
       "      <td>...</td>\n",
       "      <td>...</td>\n",
       "    </tr>\n",
       "    <tr>\n",
       "      <th>20143</th>\n",
       "      <td>NaN</td>\n",
       "      <td>tv</td>\n",
       "      <td>NaN</td>\n",
       "      <td>2024.0</td>\n",
       "      <td>NaN</td>\n",
       "      <td>NaN</td>\n",
       "      <td>NaN</td>\n",
       "      <td>AL, AZ, BA, BG, BY, CY, EE, FR, GF, HU, IT, LT...</td>\n",
       "    </tr>\n",
       "    <tr>\n",
       "      <th>20144</th>\n",
       "      <td>NaN</td>\n",
       "      <td>tv</td>\n",
       "      <td>Drama</td>\n",
       "      <td>2024.0</td>\n",
       "      <td>NaN</td>\n",
       "      <td>NaN</td>\n",
       "      <td>NaN</td>\n",
       "      <td>AO, CI, CM, CV, GH, GQ, KE, MG, ML, MU, MZ, NE...</td>\n",
       "    </tr>\n",
       "    <tr>\n",
       "      <th>20145</th>\n",
       "      <td>NaN</td>\n",
       "      <td>tv</td>\n",
       "      <td>Animation, Action &amp; Adventure</td>\n",
       "      <td>2016.0</td>\n",
       "      <td>NaN</td>\n",
       "      <td>NaN</td>\n",
       "      <td>NaN</td>\n",
       "      <td>FJ, HK, ID, IN, JP, KR, MU, MY, PH, PK, SG, TH...</td>\n",
       "    </tr>\n",
       "    <tr>\n",
       "      <th>20146</th>\n",
       "      <td>NaN</td>\n",
       "      <td>tv</td>\n",
       "      <td>NaN</td>\n",
       "      <td>NaN</td>\n",
       "      <td>NaN</td>\n",
       "      <td>NaN</td>\n",
       "      <td>NaN</td>\n",
       "      <td>FJ, HK, ID, IN, JP, KR, MU, MY, PH, PK, SG, TH...</td>\n",
       "    </tr>\n",
       "    <tr>\n",
       "      <th>20147</th>\n",
       "      <td>Blippi's Ultimate Bounce House Challenges</td>\n",
       "      <td>tv</td>\n",
       "      <td>NaN</td>\n",
       "      <td>2024.0</td>\n",
       "      <td>tt33769880</td>\n",
       "      <td>NaN</td>\n",
       "      <td>NaN</td>\n",
       "      <td>AG, AL, AO, AU, AZ, BA, BB, BG, BM, BS, BY, BZ...</td>\n",
       "    </tr>\n",
       "  </tbody>\n",
       "</table>\n",
       "<p>20064 rows × 8 columns</p>\n",
       "</div>"
      ],
      "text/plain": [
       "                                           title   type  \\\n",
       "0                                   Forrest Gump  movie   \n",
       "1                              The Fifth Element  movie   \n",
       "2                              Kill Bill: Vol. 1  movie   \n",
       "3                                        Jarhead  movie   \n",
       "4                                     Unforgiven  movie   \n",
       "...                                          ...    ...   \n",
       "20143                                        NaN     tv   \n",
       "20144                                        NaN     tv   \n",
       "20145                                        NaN     tv   \n",
       "20146                                        NaN     tv   \n",
       "20147  Blippi's Ultimate Bounce House Challenges     tv   \n",
       "\n",
       "                              genres  releaseYear      imdbId  \\\n",
       "0                     Drama, Romance       1994.0   tt0109830   \n",
       "1          Action, Adventure, Sci-Fi       1997.0   tt0119116   \n",
       "2            Action, Crime, Thriller       2003.0   tt0266697   \n",
       "3              Biography, Drama, War       2005.0   tt0418763   \n",
       "4                     Drama, Western       1992.0   tt0105695   \n",
       "...                              ...          ...         ...   \n",
       "20143                            NaN       2024.0         NaN   \n",
       "20144                          Drama       2024.0         NaN   \n",
       "20145  Animation, Action & Adventure       2016.0         NaN   \n",
       "20146                            NaN          NaN         NaN   \n",
       "20147                            NaN       2024.0  tt33769880   \n",
       "\n",
       "       imdbAverageRating  imdbNumVotes  \\\n",
       "0                    8.8     2316353.0   \n",
       "1                    7.6      517121.0   \n",
       "2                    8.2     1221791.0   \n",
       "3                    7.0      211547.0   \n",
       "4                    8.2      443775.0   \n",
       "...                  ...           ...   \n",
       "20143                NaN           NaN   \n",
       "20144                NaN           NaN   \n",
       "20145                NaN           NaN   \n",
       "20146                NaN           NaN   \n",
       "20147                NaN           NaN   \n",
       "\n",
       "                                      availableCountries  \n",
       "0                                                     MX  \n",
       "1                                             AT, CH, DE  \n",
       "2      AE, AL, AO, AT, AU, AZ, BG, BH, BY, CA, CI, CM...  \n",
       "3      AD, AE, AG, AL, AO, AR, AT, AZ, BA, BB, BG, BH...  \n",
       "4      AU, BA, BG, CZ, HR, HU, MD, ME, MK, NZ, PL, RO...  \n",
       "...                                                  ...  \n",
       "20143  AL, AZ, BA, BG, BY, CY, EE, FR, GF, HU, IT, LT...  \n",
       "20144  AO, CI, CM, CV, GH, GQ, KE, MG, ML, MU, MZ, NE...  \n",
       "20145  FJ, HK, ID, IN, JP, KR, MU, MY, PH, PK, SG, TH...  \n",
       "20146  FJ, HK, ID, IN, JP, KR, MU, MY, PH, PK, SG, TH...  \n",
       "20147  AG, AL, AO, AU, AZ, BA, BB, BG, BM, BS, BY, BZ...  \n",
       "\n",
       "[20064 rows x 8 columns]"
      ]
     },
     "execution_count": 89,
     "metadata": {},
     "output_type": "execute_result"
    }
   ],
   "source": [
    "df = df.drop_duplicates(keep = \"first\")\n",
    "df"
   ]
  },
  {
   "cell_type": "markdown",
   "id": "a0a3cd54-c0d4-4955-a364-847a5d687781",
   "metadata": {},
   "source": [
    "# checking the data type and null values"
   ]
  },
  {
   "cell_type": "code",
   "execution_count": 93,
   "id": "672e267c-7348-4e29-ab3b-6c82c877bc8e",
   "metadata": {},
   "outputs": [
    {
     "name": "stdout",
     "output_type": "stream",
     "text": [
      "<class 'pandas.core.frame.DataFrame'>\n",
      "Index: 20064 entries, 0 to 20147\n",
      "Data columns (total 8 columns):\n",
      " #   Column              Non-Null Count  Dtype  \n",
      "---  ------              --------------  -----  \n",
      " 0   title               19632 non-null  object \n",
      " 1   type                20064 non-null  object \n",
      " 2   genres              19811 non-null  object \n",
      " 3   releaseYear         20049 non-null  float64\n",
      " 4   imdbId              18868 non-null  object \n",
      " 5   imdbAverageRating   18727 non-null  float64\n",
      " 6   imdbNumVotes        18727 non-null  float64\n",
      " 7   availableCountries  20064 non-null  object \n",
      "dtypes: float64(3), object(5)\n",
      "memory usage: 1.4+ MB\n"
     ]
    }
   ],
   "source": [
    "df.info()"
   ]
  },
  {
   "cell_type": "code",
   "execution_count": 91,
   "id": "a50a09cf-4d29-4781-b7ce-f6ea7ee527fd",
   "metadata": {},
   "outputs": [
    {
     "data": {
      "text/plain": [
       "title                  432\n",
       "type                     0\n",
       "genres                 253\n",
       "releaseYear             15\n",
       "imdbId                1196\n",
       "imdbAverageRating     1337\n",
       "imdbNumVotes          1337\n",
       "availableCountries       0\n",
       "dtype: int64"
      ]
     },
     "execution_count": 91,
     "metadata": {},
     "output_type": "execute_result"
    }
   ],
   "source": [
    "df.isnull().sum()"
   ]
  },
  {
   "cell_type": "markdown",
   "id": "5c3f35a7-35a3-4c51-b54a-1db5987d1920",
   "metadata": {},
   "source": [
    "Changing the data type \n"
   ]
  },
  {
   "cell_type": "code",
   "execution_count": 95,
   "id": "f4f468a3-f890-4469-bdf0-de4382127fcc",
   "metadata": {},
   "outputs": [],
   "source": [
    "df['type'] = df['type'].astype(str)"
   ]
  },
  {
   "cell_type": "code",
   "execution_count": 97,
   "id": "22cd5fec-4860-42a2-9ed4-830857f462af",
   "metadata": {},
   "outputs": [],
   "source": [
    "#filling the missing value with mode and changing the data type\n",
    "most_common_year = df['releaseYear'].mode()[0]\n",
    "df.loc[:, 'releaseYear'] = df['releaseYear'].fillna(most_common_year)\n",
    "df['releaseYear'] = df['releaseYear'].astype(int)"
   ]
  },
  {
   "cell_type": "code",
   "execution_count": 99,
   "id": "fb59d436-142e-47e5-95bd-f76b47a4a810",
   "metadata": {},
   "outputs": [
    {
     "name": "stdout",
     "output_type": "stream",
     "text": [
      "<class 'pandas.core.frame.DataFrame'>\n",
      "Index: 20064 entries, 0 to 20147\n",
      "Data columns (total 8 columns):\n",
      " #   Column              Non-Null Count  Dtype  \n",
      "---  ------              --------------  -----  \n",
      " 0   title               19632 non-null  object \n",
      " 1   type                20064 non-null  object \n",
      " 2   genres              19811 non-null  object \n",
      " 3   releaseYear         20064 non-null  int32  \n",
      " 4   imdbId              18868 non-null  object \n",
      " 5   imdbAverageRating   18727 non-null  float64\n",
      " 6   imdbNumVotes        18727 non-null  float64\n",
      " 7   availableCountries  20064 non-null  object \n",
      "dtypes: float64(2), int32(1), object(5)\n",
      "memory usage: 1.3+ MB\n"
     ]
    }
   ],
   "source": [
    "df.info()"
   ]
  },
  {
   "cell_type": "code",
   "execution_count": 101,
   "id": "e22de33e-fa29-4e0d-ab66-e22893e4ce86",
   "metadata": {},
   "outputs": [],
   "source": [
    "df['imdbAverageRating'] = df['imdbAverageRating'].fillna(0)\n",
    "df['imdbNumVotes'] = df['imdbNumVotes'].fillna(0)"
   ]
  },
  {
   "cell_type": "code",
   "execution_count": 27,
   "id": "a0598b85-0a6e-4f38-88cc-d859bc76a356",
   "metadata": {},
   "outputs": [
    {
     "name": "stdout",
     "output_type": "stream",
     "text": [
      "<class 'pandas.core.frame.DataFrame'>\n",
      "Index: 20064 entries, 0 to 20147\n",
      "Data columns (total 8 columns):\n",
      " #   Column              Non-Null Count  Dtype  \n",
      "---  ------              --------------  -----  \n",
      " 0   title               19632 non-null  object \n",
      " 1   type                20064 non-null  object \n",
      " 2   genres              19811 non-null  object \n",
      " 3   releaseYear         20064 non-null  int32  \n",
      " 4   imdbId              18868 non-null  object \n",
      " 5   imdbAverageRating   20064 non-null  float64\n",
      " 6   imdbNumVotes        20064 non-null  float64\n",
      " 7   availableCountries  20064 non-null  object \n",
      "dtypes: float64(2), int32(1), object(5)\n",
      "memory usage: 1.3+ MB\n"
     ]
    }
   ],
   "source": [
    "df.info()"
   ]
  },
  {
   "cell_type": "code",
   "execution_count": 103,
   "id": "4bc6ef21-337c-49d0-bd6d-c5b74aece088",
   "metadata": {},
   "outputs": [
    {
     "data": {
      "text/html": [
       "<div>\n",
       "<style scoped>\n",
       "    .dataframe tbody tr th:only-of-type {\n",
       "        vertical-align: middle;\n",
       "    }\n",
       "\n",
       "    .dataframe tbody tr th {\n",
       "        vertical-align: top;\n",
       "    }\n",
       "\n",
       "    .dataframe thead th {\n",
       "        text-align: right;\n",
       "    }\n",
       "</style>\n",
       "<table border=\"1\" class=\"dataframe\">\n",
       "  <thead>\n",
       "    <tr style=\"text-align: right;\">\n",
       "      <th></th>\n",
       "      <th>title</th>\n",
       "      <th>type</th>\n",
       "      <th>genres</th>\n",
       "      <th>releaseYear</th>\n",
       "      <th>imdbId</th>\n",
       "      <th>imdbAverageRating</th>\n",
       "      <th>imdbNumVotes</th>\n",
       "      <th>availableCountries</th>\n",
       "    </tr>\n",
       "  </thead>\n",
       "  <tbody>\n",
       "    <tr>\n",
       "      <th>0</th>\n",
       "      <td>Forrest Gump</td>\n",
       "      <td>movie</td>\n",
       "      <td>Drama, Romance</td>\n",
       "      <td>1994</td>\n",
       "      <td>tt0109830</td>\n",
       "      <td>8.8</td>\n",
       "      <td>2316353.0</td>\n",
       "      <td>MX</td>\n",
       "    </tr>\n",
       "    <tr>\n",
       "      <th>1</th>\n",
       "      <td>The Fifth Element</td>\n",
       "      <td>movie</td>\n",
       "      <td>Action, Adventure, Sci-Fi</td>\n",
       "      <td>1997</td>\n",
       "      <td>tt0119116</td>\n",
       "      <td>7.6</td>\n",
       "      <td>517121.0</td>\n",
       "      <td>AT, CH, DE</td>\n",
       "    </tr>\n",
       "    <tr>\n",
       "      <th>2</th>\n",
       "      <td>Kill Bill: Vol. 1</td>\n",
       "      <td>movie</td>\n",
       "      <td>Action, Crime, Thriller</td>\n",
       "      <td>2003</td>\n",
       "      <td>tt0266697</td>\n",
       "      <td>8.2</td>\n",
       "      <td>1221791.0</td>\n",
       "      <td>AE, AL, AO, AT, AU, AZ, BG, BH, BY, CA, CI, CM...</td>\n",
       "    </tr>\n",
       "    <tr>\n",
       "      <th>3</th>\n",
       "      <td>Jarhead</td>\n",
       "      <td>movie</td>\n",
       "      <td>Biography, Drama, War</td>\n",
       "      <td>2005</td>\n",
       "      <td>tt0418763</td>\n",
       "      <td>7.0</td>\n",
       "      <td>211547.0</td>\n",
       "      <td>AD, AE, AG, AL, AO, AR, AT, AZ, BA, BB, BG, BH...</td>\n",
       "    </tr>\n",
       "    <tr>\n",
       "      <th>4</th>\n",
       "      <td>Unforgiven</td>\n",
       "      <td>movie</td>\n",
       "      <td>Drama, Western</td>\n",
       "      <td>1992</td>\n",
       "      <td>tt0105695</td>\n",
       "      <td>8.2</td>\n",
       "      <td>443775.0</td>\n",
       "      <td>AU, BA, BG, CZ, HR, HU, MD, ME, MK, NZ, PL, RO...</td>\n",
       "    </tr>\n",
       "  </tbody>\n",
       "</table>\n",
       "</div>"
      ],
      "text/plain": [
       "               title   type                     genres  releaseYear  \\\n",
       "0       Forrest Gump  movie             Drama, Romance         1994   \n",
       "1  The Fifth Element  movie  Action, Adventure, Sci-Fi         1997   \n",
       "2  Kill Bill: Vol. 1  movie    Action, Crime, Thriller         2003   \n",
       "3            Jarhead  movie      Biography, Drama, War         2005   \n",
       "4         Unforgiven  movie             Drama, Western         1992   \n",
       "\n",
       "      imdbId  imdbAverageRating  imdbNumVotes  \\\n",
       "0  tt0109830                8.8     2316353.0   \n",
       "1  tt0119116                7.6      517121.0   \n",
       "2  tt0266697                8.2     1221791.0   \n",
       "3  tt0418763                7.0      211547.0   \n",
       "4  tt0105695                8.2      443775.0   \n",
       "\n",
       "                                  availableCountries  \n",
       "0                                                 MX  \n",
       "1                                         AT, CH, DE  \n",
       "2  AE, AL, AO, AT, AU, AZ, BG, BH, BY, CA, CI, CM...  \n",
       "3  AD, AE, AG, AL, AO, AR, AT, AZ, BA, BB, BG, BH...  \n",
       "4  AU, BA, BG, CZ, HR, HU, MD, ME, MK, NZ, PL, RO...  "
      ]
     },
     "execution_count": 103,
     "metadata": {},
     "output_type": "execute_result"
    }
   ],
   "source": [
    "df.head()"
   ]
  },
  {
   "cell_type": "code",
   "execution_count": 107,
   "id": "a8cad3ee-e2b1-494b-9f3c-104961362c60",
   "metadata": {},
   "outputs": [],
   "source": [
    "df = df.drop('imdbId', axis=1)"
   ]
  },
  {
   "cell_type": "code",
   "execution_count": 105,
   "id": "7d50f808-ac3d-4e4f-b18a-6597c16ae11c",
   "metadata": {},
   "outputs": [
    {
     "data": {
      "text/html": [
       "<div>\n",
       "<style scoped>\n",
       "    .dataframe tbody tr th:only-of-type {\n",
       "        vertical-align: middle;\n",
       "    }\n",
       "\n",
       "    .dataframe tbody tr th {\n",
       "        vertical-align: top;\n",
       "    }\n",
       "\n",
       "    .dataframe thead th {\n",
       "        text-align: right;\n",
       "    }\n",
       "</style>\n",
       "<table border=\"1\" class=\"dataframe\">\n",
       "  <thead>\n",
       "    <tr style=\"text-align: right;\">\n",
       "      <th></th>\n",
       "      <th>title</th>\n",
       "      <th>type</th>\n",
       "      <th>genres</th>\n",
       "      <th>releaseYear</th>\n",
       "      <th>imdbId</th>\n",
       "      <th>imdbAverageRating</th>\n",
       "      <th>imdbNumVotes</th>\n",
       "      <th>availableCountries</th>\n",
       "    </tr>\n",
       "  </thead>\n",
       "  <tbody>\n",
       "    <tr>\n",
       "      <th>0</th>\n",
       "      <td>Forrest Gump</td>\n",
       "      <td>movie</td>\n",
       "      <td>Drama, Romance</td>\n",
       "      <td>1994</td>\n",
       "      <td>tt0109830</td>\n",
       "      <td>8.8</td>\n",
       "      <td>2316353.0</td>\n",
       "      <td>MX</td>\n",
       "    </tr>\n",
       "    <tr>\n",
       "      <th>1</th>\n",
       "      <td>The Fifth Element</td>\n",
       "      <td>movie</td>\n",
       "      <td>Action, Adventure, Sci-Fi</td>\n",
       "      <td>1997</td>\n",
       "      <td>tt0119116</td>\n",
       "      <td>7.6</td>\n",
       "      <td>517121.0</td>\n",
       "      <td>AT, CH, DE</td>\n",
       "    </tr>\n",
       "    <tr>\n",
       "      <th>2</th>\n",
       "      <td>Kill Bill: Vol. 1</td>\n",
       "      <td>movie</td>\n",
       "      <td>Action, Crime, Thriller</td>\n",
       "      <td>2003</td>\n",
       "      <td>tt0266697</td>\n",
       "      <td>8.2</td>\n",
       "      <td>1221791.0</td>\n",
       "      <td>AE, AL, AO, AT, AU, AZ, BG, BH, BY, CA, CI, CM...</td>\n",
       "    </tr>\n",
       "    <tr>\n",
       "      <th>3</th>\n",
       "      <td>Jarhead</td>\n",
       "      <td>movie</td>\n",
       "      <td>Biography, Drama, War</td>\n",
       "      <td>2005</td>\n",
       "      <td>tt0418763</td>\n",
       "      <td>7.0</td>\n",
       "      <td>211547.0</td>\n",
       "      <td>AD, AE, AG, AL, AO, AR, AT, AZ, BA, BB, BG, BH...</td>\n",
       "    </tr>\n",
       "    <tr>\n",
       "      <th>4</th>\n",
       "      <td>Unforgiven</td>\n",
       "      <td>movie</td>\n",
       "      <td>Drama, Western</td>\n",
       "      <td>1992</td>\n",
       "      <td>tt0105695</td>\n",
       "      <td>8.2</td>\n",
       "      <td>443775.0</td>\n",
       "      <td>AU, BA, BG, CZ, HR, HU, MD, ME, MK, NZ, PL, RO...</td>\n",
       "    </tr>\n",
       "  </tbody>\n",
       "</table>\n",
       "</div>"
      ],
      "text/plain": [
       "               title   type                     genres  releaseYear  \\\n",
       "0       Forrest Gump  movie             Drama, Romance         1994   \n",
       "1  The Fifth Element  movie  Action, Adventure, Sci-Fi         1997   \n",
       "2  Kill Bill: Vol. 1  movie    Action, Crime, Thriller         2003   \n",
       "3            Jarhead  movie      Biography, Drama, War         2005   \n",
       "4         Unforgiven  movie             Drama, Western         1992   \n",
       "\n",
       "      imdbId  imdbAverageRating  imdbNumVotes  \\\n",
       "0  tt0109830                8.8     2316353.0   \n",
       "1  tt0119116                7.6      517121.0   \n",
       "2  tt0266697                8.2     1221791.0   \n",
       "3  tt0418763                7.0      211547.0   \n",
       "4  tt0105695                8.2      443775.0   \n",
       "\n",
       "                                  availableCountries  \n",
       "0                                                 MX  \n",
       "1                                         AT, CH, DE  \n",
       "2  AE, AL, AO, AT, AU, AZ, BG, BH, BY, CA, CI, CM...  \n",
       "3  AD, AE, AG, AL, AO, AR, AT, AZ, BA, BB, BG, BH...  \n",
       "4  AU, BA, BG, CZ, HR, HU, MD, ME, MK, NZ, PL, RO...  "
      ]
     },
     "execution_count": 105,
     "metadata": {},
     "output_type": "execute_result"
    }
   ],
   "source": [
    "df.head()"
   ]
  },
  {
   "cell_type": "code",
   "execution_count": 111,
   "id": "122b1031-503f-4d92-ba22-3a109746b5db",
   "metadata": {},
   "outputs": [],
   "source": [
    "df = df.rename(columns={'releaseYear': 'Release_Year'})\n",
    "df = df.rename(columns={'title': 'Title'})\n",
    "df = df.rename(columns={'type': 'Type'})\n",
    "df = df.rename(columns={'imdbAverageRating': 'IMDB_Average_Rating'})\n",
    "df = df.rename(columns={'imdbNumVotes': 'IMDB_Num_Votes'})\n",
    "df = df.rename(columns={'availableCountries': 'Available_Countries'})"
   ]
  },
  {
   "cell_type": "code",
   "execution_count": 113,
   "id": "d5f0bb9e-5734-47b2-b408-a7705c721987",
   "metadata": {},
   "outputs": [
    {
     "data": {
      "text/html": [
       "<div>\n",
       "<style scoped>\n",
       "    .dataframe tbody tr th:only-of-type {\n",
       "        vertical-align: middle;\n",
       "    }\n",
       "\n",
       "    .dataframe tbody tr th {\n",
       "        vertical-align: top;\n",
       "    }\n",
       "\n",
       "    .dataframe thead th {\n",
       "        text-align: right;\n",
       "    }\n",
       "</style>\n",
       "<table border=\"1\" class=\"dataframe\">\n",
       "  <thead>\n",
       "    <tr style=\"text-align: right;\">\n",
       "      <th></th>\n",
       "      <th>Title</th>\n",
       "      <th>Type</th>\n",
       "      <th>genres</th>\n",
       "      <th>Release_Year</th>\n",
       "      <th>IMDB_Average_Rating</th>\n",
       "      <th>IMDB_Num_Votes</th>\n",
       "      <th>Available_Countries</th>\n",
       "    </tr>\n",
       "  </thead>\n",
       "  <tbody>\n",
       "    <tr>\n",
       "      <th>0</th>\n",
       "      <td>Forrest Gump</td>\n",
       "      <td>movie</td>\n",
       "      <td>Drama, Romance</td>\n",
       "      <td>1994</td>\n",
       "      <td>8.8</td>\n",
       "      <td>2316353.0</td>\n",
       "      <td>MX</td>\n",
       "    </tr>\n",
       "    <tr>\n",
       "      <th>1</th>\n",
       "      <td>The Fifth Element</td>\n",
       "      <td>movie</td>\n",
       "      <td>Action, Adventure, Sci-Fi</td>\n",
       "      <td>1997</td>\n",
       "      <td>7.6</td>\n",
       "      <td>517121.0</td>\n",
       "      <td>AT, CH, DE</td>\n",
       "    </tr>\n",
       "    <tr>\n",
       "      <th>2</th>\n",
       "      <td>Kill Bill: Vol. 1</td>\n",
       "      <td>movie</td>\n",
       "      <td>Action, Crime, Thriller</td>\n",
       "      <td>2003</td>\n",
       "      <td>8.2</td>\n",
       "      <td>1221791.0</td>\n",
       "      <td>AE, AL, AO, AT, AU, AZ, BG, BH, BY, CA, CI, CM...</td>\n",
       "    </tr>\n",
       "    <tr>\n",
       "      <th>3</th>\n",
       "      <td>Jarhead</td>\n",
       "      <td>movie</td>\n",
       "      <td>Biography, Drama, War</td>\n",
       "      <td>2005</td>\n",
       "      <td>7.0</td>\n",
       "      <td>211547.0</td>\n",
       "      <td>AD, AE, AG, AL, AO, AR, AT, AZ, BA, BB, BG, BH...</td>\n",
       "    </tr>\n",
       "    <tr>\n",
       "      <th>4</th>\n",
       "      <td>Unforgiven</td>\n",
       "      <td>movie</td>\n",
       "      <td>Drama, Western</td>\n",
       "      <td>1992</td>\n",
       "      <td>8.2</td>\n",
       "      <td>443775.0</td>\n",
       "      <td>AU, BA, BG, CZ, HR, HU, MD, ME, MK, NZ, PL, RO...</td>\n",
       "    </tr>\n",
       "  </tbody>\n",
       "</table>\n",
       "</div>"
      ],
      "text/plain": [
       "               Title   Type                     genres  Release_Year  \\\n",
       "0       Forrest Gump  movie             Drama, Romance          1994   \n",
       "1  The Fifth Element  movie  Action, Adventure, Sci-Fi          1997   \n",
       "2  Kill Bill: Vol. 1  movie    Action, Crime, Thriller          2003   \n",
       "3            Jarhead  movie      Biography, Drama, War          2005   \n",
       "4         Unforgiven  movie             Drama, Western          1992   \n",
       "\n",
       "   IMDB_Average_Rating  IMDB_Num_Votes  \\\n",
       "0                  8.8       2316353.0   \n",
       "1                  7.6        517121.0   \n",
       "2                  8.2       1221791.0   \n",
       "3                  7.0        211547.0   \n",
       "4                  8.2        443775.0   \n",
       "\n",
       "                                 Available_Countries  \n",
       "0                                                 MX  \n",
       "1                                         AT, CH, DE  \n",
       "2  AE, AL, AO, AT, AU, AZ, BG, BH, BY, CA, CI, CM...  \n",
       "3  AD, AE, AG, AL, AO, AR, AT, AZ, BA, BB, BG, BH...  \n",
       "4  AU, BA, BG, CZ, HR, HU, MD, ME, MK, NZ, PL, RO...  "
      ]
     },
     "execution_count": 113,
     "metadata": {},
     "output_type": "execute_result"
    }
   ],
   "source": [
    "df.head()"
   ]
  },
  {
   "cell_type": "markdown",
   "id": "23667046-c107-414c-bd2f-5fc81876033c",
   "metadata": {},
   "source": [
    "# Creating a new column for genre "
   ]
  },
  {
   "cell_type": "code",
   "execution_count": 115,
   "id": "6e8c649a-8f3c-41b8-b720-485a77c80a1f",
   "metadata": {},
   "outputs": [],
   "source": [
    "df['FirstGenre'] = df['genres'].str.split(',').str[0].str.strip()"
   ]
  },
  {
   "cell_type": "code",
   "execution_count": 117,
   "id": "b83d0ffe-8205-4dc0-adb8-a31fdc888bc5",
   "metadata": {},
   "outputs": [
    {
     "data": {
      "text/html": [
       "<div>\n",
       "<style scoped>\n",
       "    .dataframe tbody tr th:only-of-type {\n",
       "        vertical-align: middle;\n",
       "    }\n",
       "\n",
       "    .dataframe tbody tr th {\n",
       "        vertical-align: top;\n",
       "    }\n",
       "\n",
       "    .dataframe thead th {\n",
       "        text-align: right;\n",
       "    }\n",
       "</style>\n",
       "<table border=\"1\" class=\"dataframe\">\n",
       "  <thead>\n",
       "    <tr style=\"text-align: right;\">\n",
       "      <th></th>\n",
       "      <th>Title</th>\n",
       "      <th>Type</th>\n",
       "      <th>genres</th>\n",
       "      <th>Release_Year</th>\n",
       "      <th>IMDB_Average_Rating</th>\n",
       "      <th>IMDB_Num_Votes</th>\n",
       "      <th>Available_Countries</th>\n",
       "      <th>FirstGenre</th>\n",
       "    </tr>\n",
       "  </thead>\n",
       "  <tbody>\n",
       "    <tr>\n",
       "      <th>0</th>\n",
       "      <td>Forrest Gump</td>\n",
       "      <td>movie</td>\n",
       "      <td>Drama, Romance</td>\n",
       "      <td>1994</td>\n",
       "      <td>8.8</td>\n",
       "      <td>2316353.0</td>\n",
       "      <td>MX</td>\n",
       "      <td>Drama</td>\n",
       "    </tr>\n",
       "    <tr>\n",
       "      <th>1</th>\n",
       "      <td>The Fifth Element</td>\n",
       "      <td>movie</td>\n",
       "      <td>Action, Adventure, Sci-Fi</td>\n",
       "      <td>1997</td>\n",
       "      <td>7.6</td>\n",
       "      <td>517121.0</td>\n",
       "      <td>AT, CH, DE</td>\n",
       "      <td>Action</td>\n",
       "    </tr>\n",
       "    <tr>\n",
       "      <th>2</th>\n",
       "      <td>Kill Bill: Vol. 1</td>\n",
       "      <td>movie</td>\n",
       "      <td>Action, Crime, Thriller</td>\n",
       "      <td>2003</td>\n",
       "      <td>8.2</td>\n",
       "      <td>1221791.0</td>\n",
       "      <td>AE, AL, AO, AT, AU, AZ, BG, BH, BY, CA, CI, CM...</td>\n",
       "      <td>Action</td>\n",
       "    </tr>\n",
       "    <tr>\n",
       "      <th>3</th>\n",
       "      <td>Jarhead</td>\n",
       "      <td>movie</td>\n",
       "      <td>Biography, Drama, War</td>\n",
       "      <td>2005</td>\n",
       "      <td>7.0</td>\n",
       "      <td>211547.0</td>\n",
       "      <td>AD, AE, AG, AL, AO, AR, AT, AZ, BA, BB, BG, BH...</td>\n",
       "      <td>Biography</td>\n",
       "    </tr>\n",
       "    <tr>\n",
       "      <th>4</th>\n",
       "      <td>Unforgiven</td>\n",
       "      <td>movie</td>\n",
       "      <td>Drama, Western</td>\n",
       "      <td>1992</td>\n",
       "      <td>8.2</td>\n",
       "      <td>443775.0</td>\n",
       "      <td>AU, BA, BG, CZ, HR, HU, MD, ME, MK, NZ, PL, RO...</td>\n",
       "      <td>Drama</td>\n",
       "    </tr>\n",
       "  </tbody>\n",
       "</table>\n",
       "</div>"
      ],
      "text/plain": [
       "               Title   Type                     genres  Release_Year  \\\n",
       "0       Forrest Gump  movie             Drama, Romance          1994   \n",
       "1  The Fifth Element  movie  Action, Adventure, Sci-Fi          1997   \n",
       "2  Kill Bill: Vol. 1  movie    Action, Crime, Thriller          2003   \n",
       "3            Jarhead  movie      Biography, Drama, War          2005   \n",
       "4         Unforgiven  movie             Drama, Western          1992   \n",
       "\n",
       "   IMDB_Average_Rating  IMDB_Num_Votes  \\\n",
       "0                  8.8       2316353.0   \n",
       "1                  7.6        517121.0   \n",
       "2                  8.2       1221791.0   \n",
       "3                  7.0        211547.0   \n",
       "4                  8.2        443775.0   \n",
       "\n",
       "                                 Available_Countries FirstGenre  \n",
       "0                                                 MX      Drama  \n",
       "1                                         AT, CH, DE     Action  \n",
       "2  AE, AL, AO, AT, AU, AZ, BG, BH, BY, CA, CI, CM...     Action  \n",
       "3  AD, AE, AG, AL, AO, AR, AT, AZ, BA, BB, BG, BH...  Biography  \n",
       "4  AU, BA, BG, CZ, HR, HU, MD, ME, MK, NZ, PL, RO...      Drama  "
      ]
     },
     "execution_count": 117,
     "metadata": {},
     "output_type": "execute_result"
    }
   ],
   "source": [
    "df.head()"
   ]
  },
  {
   "cell_type": "code",
   "execution_count": 121,
   "id": "81d57aeb-9b8b-4240-9805-78d6878b27d9",
   "metadata": {},
   "outputs": [
    {
     "data": {
      "text/plain": [
       "array(['MX', 'AT', 'CH', 'DE', 'AE', 'AL', 'AO', 'AU', 'AZ', 'BG', 'BH',\n",
       "       'BY', 'CA', 'CI', 'CM', 'CZ', 'DK', 'EE', 'EG', 'FI', 'FJ', 'GH',\n",
       "       'GQ', 'GR', 'HR', 'HU', 'IQ', 'IS', 'IT', 'JO', 'KE', 'KR', 'KW',\n",
       "       'LB', 'LI', 'LT', 'LU', 'LV', 'LY', 'MC', 'MD', 'ME', 'MK', 'MT',\n",
       "       'MZ', 'NE', 'NG', 'NO', 'NZ', 'OM', 'PL', 'QA', 'RO', 'RS', 'SA',\n",
       "       'SC', 'SE', 'SI', 'SK', 'SM', 'SN', 'TR', 'TZ', 'UA', 'UG', 'YE',\n",
       "       'ZA', 'ZM', 'ZW', 'AD', 'AG', 'AR', 'BA', 'BB', 'BM', 'BR', 'BS',\n",
       "       'BZ', 'CO', 'CR', 'CU', 'CV', 'CY', 'DO', 'DZ', 'EC', 'ES', 'GF',\n",
       "       'GT', 'HK', 'HN', 'ID', 'IL', 'JM', 'JP', 'LC', 'MA', 'MG', 'ML',\n",
       "       'MU', 'MY', 'NI', 'NL', 'PA', 'PE', 'PF', 'PS', 'PT', 'PY', 'SG',\n",
       "       'SV', 'TC', 'TH', 'TN', 'TT', 'TW', 'US', 'UY', 'VE', 'BE', 'BO',\n",
       "       'CL', 'FR', 'GB', 'GG', 'GI', 'IE', 'IN', 'PH', 'PK', 'TD'],\n",
       "      dtype=object)"
      ]
     },
     "execution_count": 121,
     "metadata": {},
     "output_type": "execute_result"
    }
   ],
   "source": [
    "# If 'availableCountries' is a comma-separated string\n",
    "unique_countries = df['Available_Countries'].str.split(',').explode().str.strip().unique()\n",
    "unique_countries"
   ]
  },
  {
   "cell_type": "code",
   "execution_count": 123,
   "id": "cecbad33-c02b-496b-ab62-5454e78db81a",
   "metadata": {},
   "outputs": [
    {
     "data": {
      "text/html": [
       "<div>\n",
       "<style scoped>\n",
       "    .dataframe tbody tr th:only-of-type {\n",
       "        vertical-align: middle;\n",
       "    }\n",
       "\n",
       "    .dataframe tbody tr th {\n",
       "        vertical-align: top;\n",
       "    }\n",
       "\n",
       "    .dataframe thead th {\n",
       "        text-align: right;\n",
       "    }\n",
       "</style>\n",
       "<table border=\"1\" class=\"dataframe\">\n",
       "  <thead>\n",
       "    <tr style=\"text-align: right;\">\n",
       "      <th></th>\n",
       "      <th>Code</th>\n",
       "      <th>CountryName</th>\n",
       "    </tr>\n",
       "  </thead>\n",
       "  <tbody>\n",
       "    <tr>\n",
       "      <th>0</th>\n",
       "      <td>MX</td>\n",
       "      <td>Mexico</td>\n",
       "    </tr>\n",
       "    <tr>\n",
       "      <th>1</th>\n",
       "      <td>AT</td>\n",
       "      <td>Austria</td>\n",
       "    </tr>\n",
       "    <tr>\n",
       "      <th>2</th>\n",
       "      <td>CH</td>\n",
       "      <td>Switzerland</td>\n",
       "    </tr>\n",
       "    <tr>\n",
       "      <th>3</th>\n",
       "      <td>DE</td>\n",
       "      <td>Germany</td>\n",
       "    </tr>\n",
       "    <tr>\n",
       "      <th>4</th>\n",
       "      <td>AE</td>\n",
       "      <td>United Arab Emirates</td>\n",
       "    </tr>\n",
       "    <tr>\n",
       "      <th>...</th>\n",
       "      <td>...</td>\n",
       "      <td>...</td>\n",
       "    </tr>\n",
       "    <tr>\n",
       "      <th>126</th>\n",
       "      <td>IE</td>\n",
       "      <td>Ireland</td>\n",
       "    </tr>\n",
       "    <tr>\n",
       "      <th>127</th>\n",
       "      <td>IN</td>\n",
       "      <td>India</td>\n",
       "    </tr>\n",
       "    <tr>\n",
       "      <th>128</th>\n",
       "      <td>PH</td>\n",
       "      <td>Philippines</td>\n",
       "    </tr>\n",
       "    <tr>\n",
       "      <th>129</th>\n",
       "      <td>PK</td>\n",
       "      <td>Pakistan</td>\n",
       "    </tr>\n",
       "    <tr>\n",
       "      <th>130</th>\n",
       "      <td>TD</td>\n",
       "      <td>Chad</td>\n",
       "    </tr>\n",
       "  </tbody>\n",
       "</table>\n",
       "<p>131 rows × 2 columns</p>\n",
       "</div>"
      ],
      "text/plain": [
       "    Code           CountryName\n",
       "0     MX                Mexico\n",
       "1     AT               Austria\n",
       "2     CH           Switzerland\n",
       "3     DE               Germany\n",
       "4     AE  United Arab Emirates\n",
       "..   ...                   ...\n",
       "126   IE               Ireland\n",
       "127   IN                 India\n",
       "128   PH           Philippines\n",
       "129   PK              Pakistan\n",
       "130   TD                  Chad\n",
       "\n",
       "[131 rows x 2 columns]"
      ]
     },
     "execution_count": 123,
     "metadata": {},
     "output_type": "execute_result"
    }
   ],
   "source": [
    "import pandas as pd\n",
    "\n",
    "# Dictionary of country short codes and corresponding full country names\n",
    "country_dict = {\n",
    "    'MX': 'Mexico', 'AT': 'Austria', 'CH': 'Switzerland', 'DE': 'Germany', 'AE': 'United Arab Emirates',\n",
    "    'AL': 'Albania', 'AO': 'Angola', 'AU': 'Australia', 'AZ': 'Azerbaijan', 'BG': 'Bulgaria', \n",
    "    'BH': 'Bahrain', 'BY': 'Belarus', 'CA': 'Canada', 'CI': 'Ivory Coast', 'CM': 'Cameroon',\n",
    "    'CZ': 'Czech Republic', 'DK': 'Denmark', 'EE': 'Estonia', 'EG': 'Egypt', 'FI': 'Finland', \n",
    "    'FJ': 'Fiji', 'GH': 'Ghana', 'GQ': 'Equatorial Guinea', 'GR': 'Greece', 'HR': 'Croatia', \n",
    "    'HU': 'Hungary', 'IQ': 'Iraq', 'IS': 'Iceland', 'IT': 'Italy', 'JO': 'Jordan', 'KE': 'Kenya',\n",
    "    'KR': 'South Korea', 'KW': 'Kuwait', 'LB': 'Lebanon', 'LI': 'Liechtenstein', 'LT': 'Lithuania',\n",
    "    'LU': 'Luxembourg', 'LV': 'Latvia', 'LY': 'Libya', 'MC': 'Monaco', 'MD': 'Moldova', 'ME': 'Montenegro',\n",
    "    'MK': 'North Macedonia', 'MT': 'Malta', 'MZ': 'Mozambique', 'NE': 'Niger', 'NG': 'Nigeria', \n",
    "    'NO': 'Norway', 'NZ': 'New Zealand', 'OM': 'Oman', 'PL': 'Poland', 'QA': 'Qatar', 'RO': 'Romania', \n",
    "    'RS': 'Serbia', 'SA': 'Saudi Arabia', 'SC': 'Seychelles', 'SE': 'Sweden', 'SI': 'Slovenia', \n",
    "    'SK': 'Slovakia', 'SM': 'San Marino', 'SN': 'Senegal', 'TR': 'Turkey', 'TZ': 'Tanzania', \n",
    "    'UA': 'Ukraine', 'UG': 'Uganda', 'YE': 'Yemen', 'ZA': 'South Africa', 'ZM': 'Zambia', 'ZW': 'Zimbabwe',\n",
    "    'AD': 'Andorra', 'AG': 'Antigua and Barbuda', 'AR': 'Argentina', 'BA': 'Bosnia and Herzegovina', \n",
    "    'BB': 'Barbados', 'BM': 'Bermuda', 'BR': 'Brazil', 'BS': 'Bahamas', 'BZ': 'Belize', 'CO': 'Colombia', \n",
    "    'CR': 'Costa Rica', 'CU': 'Cuba', 'CV': 'Cape Verde', 'CY': 'Cyprus', 'DO': 'Dominican Republic',\n",
    "    'DZ': 'Algeria', 'EC': 'Ecuador', 'ES': 'Spain', 'GF': 'French Guiana', 'GT': 'Guatemala', \n",
    "    'HK': 'Hong Kong', 'HN': 'Honduras', 'ID': 'Indonesia', 'IL': 'Israel', 'JM': 'Jamaica', 'JP': 'Japan', \n",
    "    'LC': 'Saint Lucia', 'MA': 'Morocco', 'MG': 'Madagascar', 'ML': 'Mali', 'MU': 'Mauritius', 'MY': 'Malaysia', \n",
    "    'NI': 'Nicaragua', 'NL': 'Netherlands', 'PA': 'Panama', 'PE': 'Peru', 'PF': 'French Polynesia', \n",
    "    'PS': 'Palestinian Territories', 'PT': 'Portugal', 'PY': 'Paraguay', 'SG': 'Singapore', 'SV': 'El Salvador',\n",
    "    'TC': 'Turks and Caicos Islands', 'TH': 'Thailand', 'TN': 'Tunisia', 'TT': 'Trinidad and Tobago', \n",
    "    'TW': 'Taiwan', 'US': 'United States', 'UY': 'Uruguay', 'VE': 'Venezuela', 'BE': 'Belgium', 'BO': 'Bolivia',\n",
    "    'CL': 'Chile', 'FR': 'France', 'GB': 'United Kingdom', 'GG': 'Guernsey', 'GI': 'Gibraltar', 'IE': 'Ireland',\n",
    "    'IN': 'India', 'PH': 'Philippines', 'PK': 'Pakistan', 'TD': 'Chad'\n",
    "}\n",
    "\n",
    "# Convert the dictionary to a DataFrame\n",
    "country_df = pd.DataFrame(list(country_dict.items()), columns=['Code', 'CountryName'])\n",
    "\n",
    "country_df"
   ]
  },
  {
   "cell_type": "code",
   "execution_count": 125,
   "id": "2bae71b0-9476-4c8e-85ef-b92737b75214",
   "metadata": {},
   "outputs": [
    {
     "data": {
      "text/html": [
       "<div>\n",
       "<style scoped>\n",
       "    .dataframe tbody tr th:only-of-type {\n",
       "        vertical-align: middle;\n",
       "    }\n",
       "\n",
       "    .dataframe tbody tr th {\n",
       "        vertical-align: top;\n",
       "    }\n",
       "\n",
       "    .dataframe thead th {\n",
       "        text-align: right;\n",
       "    }\n",
       "</style>\n",
       "<table border=\"1\" class=\"dataframe\">\n",
       "  <thead>\n",
       "    <tr style=\"text-align: right;\">\n",
       "      <th></th>\n",
       "      <th>Title</th>\n",
       "      <th>Type</th>\n",
       "      <th>genres</th>\n",
       "      <th>Release_Year</th>\n",
       "      <th>IMDB_Average_Rating</th>\n",
       "      <th>IMDB_Num_Votes</th>\n",
       "      <th>Available_Countries</th>\n",
       "      <th>FirstGenre</th>\n",
       "    </tr>\n",
       "  </thead>\n",
       "  <tbody>\n",
       "    <tr>\n",
       "      <th>0</th>\n",
       "      <td>Forrest Gump</td>\n",
       "      <td>movie</td>\n",
       "      <td>Drama, Romance</td>\n",
       "      <td>1994</td>\n",
       "      <td>8.8</td>\n",
       "      <td>2316353.0</td>\n",
       "      <td>MX</td>\n",
       "      <td>Drama</td>\n",
       "    </tr>\n",
       "    <tr>\n",
       "      <th>1</th>\n",
       "      <td>The Fifth Element</td>\n",
       "      <td>movie</td>\n",
       "      <td>Action, Adventure, Sci-Fi</td>\n",
       "      <td>1997</td>\n",
       "      <td>7.6</td>\n",
       "      <td>517121.0</td>\n",
       "      <td>AT, CH, DE</td>\n",
       "      <td>Action</td>\n",
       "    </tr>\n",
       "    <tr>\n",
       "      <th>2</th>\n",
       "      <td>Kill Bill: Vol. 1</td>\n",
       "      <td>movie</td>\n",
       "      <td>Action, Crime, Thriller</td>\n",
       "      <td>2003</td>\n",
       "      <td>8.2</td>\n",
       "      <td>1221791.0</td>\n",
       "      <td>AE, AL, AO, AT, AU, AZ, BG, BH, BY, CA, CI, CM...</td>\n",
       "      <td>Action</td>\n",
       "    </tr>\n",
       "    <tr>\n",
       "      <th>3</th>\n",
       "      <td>Jarhead</td>\n",
       "      <td>movie</td>\n",
       "      <td>Biography, Drama, War</td>\n",
       "      <td>2005</td>\n",
       "      <td>7.0</td>\n",
       "      <td>211547.0</td>\n",
       "      <td>AD, AE, AG, AL, AO, AR, AT, AZ, BA, BB, BG, BH...</td>\n",
       "      <td>Biography</td>\n",
       "    </tr>\n",
       "    <tr>\n",
       "      <th>4</th>\n",
       "      <td>Unforgiven</td>\n",
       "      <td>movie</td>\n",
       "      <td>Drama, Western</td>\n",
       "      <td>1992</td>\n",
       "      <td>8.2</td>\n",
       "      <td>443775.0</td>\n",
       "      <td>AU, BA, BG, CZ, HR, HU, MD, ME, MK, NZ, PL, RO...</td>\n",
       "      <td>Drama</td>\n",
       "    </tr>\n",
       "  </tbody>\n",
       "</table>\n",
       "</div>"
      ],
      "text/plain": [
       "               Title   Type                     genres  Release_Year  \\\n",
       "0       Forrest Gump  movie             Drama, Romance          1994   \n",
       "1  The Fifth Element  movie  Action, Adventure, Sci-Fi          1997   \n",
       "2  Kill Bill: Vol. 1  movie    Action, Crime, Thriller          2003   \n",
       "3            Jarhead  movie      Biography, Drama, War          2005   \n",
       "4         Unforgiven  movie             Drama, Western          1992   \n",
       "\n",
       "   IMDB_Average_Rating  IMDB_Num_Votes  \\\n",
       "0                  8.8       2316353.0   \n",
       "1                  7.6        517121.0   \n",
       "2                  8.2       1221791.0   \n",
       "3                  7.0        211547.0   \n",
       "4                  8.2        443775.0   \n",
       "\n",
       "                                 Available_Countries FirstGenre  \n",
       "0                                                 MX      Drama  \n",
       "1                                         AT, CH, DE     Action  \n",
       "2  AE, AL, AO, AT, AU, AZ, BG, BH, BY, CA, CI, CM...     Action  \n",
       "3  AD, AE, AG, AL, AO, AR, AT, AZ, BA, BB, BG, BH...  Biography  \n",
       "4  AU, BA, BG, CZ, HR, HU, MD, ME, MK, NZ, PL, RO...      Drama  "
      ]
     },
     "execution_count": 125,
     "metadata": {},
     "output_type": "execute_result"
    }
   ],
   "source": [
    "df.head()"
   ]
  },
  {
   "cell_type": "code",
   "execution_count": 55,
   "id": "13b12dd5-13df-4e3b-b9f9-4fa832567297",
   "metadata": {},
   "outputs": [
    {
     "data": {
      "text/html": [
       "<div>\n",
       "<style scoped>\n",
       "    .dataframe tbody tr th:only-of-type {\n",
       "        vertical-align: middle;\n",
       "    }\n",
       "\n",
       "    .dataframe tbody tr th {\n",
       "        vertical-align: top;\n",
       "    }\n",
       "\n",
       "    .dataframe thead th {\n",
       "        text-align: right;\n",
       "    }\n",
       "</style>\n",
       "<table border=\"1\" class=\"dataframe\">\n",
       "  <thead>\n",
       "    <tr style=\"text-align: right;\">\n",
       "      <th></th>\n",
       "      <th>Release Year</th>\n",
       "      <th>IMDB Average Rating</th>\n",
       "      <th>IMDB Num Votes</th>\n",
       "    </tr>\n",
       "  </thead>\n",
       "  <tbody>\n",
       "    <tr>\n",
       "      <th>count</th>\n",
       "      <td>20064.000000</td>\n",
       "      <td>20064.000000</td>\n",
       "      <td>2.006400e+04</td>\n",
       "    </tr>\n",
       "    <tr>\n",
       "      <th>mean</th>\n",
       "      <td>2012.834380</td>\n",
       "      <td>5.972094</td>\n",
       "      <td>3.000516e+04</td>\n",
       "    </tr>\n",
       "    <tr>\n",
       "      <th>std</th>\n",
       "      <td>14.459769</td>\n",
       "      <td>1.913664</td>\n",
       "      <td>1.171720e+05</td>\n",
       "    </tr>\n",
       "    <tr>\n",
       "      <th>min</th>\n",
       "      <td>1913.000000</td>\n",
       "      <td>0.000000</td>\n",
       "      <td>0.000000e+00</td>\n",
       "    </tr>\n",
       "    <tr>\n",
       "      <th>25%</th>\n",
       "      <td>2011.000000</td>\n",
       "      <td>5.500000</td>\n",
       "      <td>2.300000e+02</td>\n",
       "    </tr>\n",
       "    <tr>\n",
       "      <th>50%</th>\n",
       "      <td>2018.000000</td>\n",
       "      <td>6.400000</td>\n",
       "      <td>1.310500e+03</td>\n",
       "    </tr>\n",
       "    <tr>\n",
       "      <th>75%</th>\n",
       "      <td>2021.000000</td>\n",
       "      <td>7.100000</td>\n",
       "      <td>8.835750e+03</td>\n",
       "    </tr>\n",
       "    <tr>\n",
       "      <th>max</th>\n",
       "      <td>2025.000000</td>\n",
       "      <td>9.600000</td>\n",
       "      <td>2.960051e+06</td>\n",
       "    </tr>\n",
       "  </tbody>\n",
       "</table>\n",
       "</div>"
      ],
      "text/plain": [
       "       Release Year  IMDB Average Rating  IMDB Num Votes\n",
       "count  20064.000000         20064.000000    2.006400e+04\n",
       "mean    2012.834380             5.972094    3.000516e+04\n",
       "std       14.459769             1.913664    1.171720e+05\n",
       "min     1913.000000             0.000000    0.000000e+00\n",
       "25%     2011.000000             5.500000    2.300000e+02\n",
       "50%     2018.000000             6.400000    1.310500e+03\n",
       "75%     2021.000000             7.100000    8.835750e+03\n",
       "max     2025.000000             9.600000    2.960051e+06"
      ]
     },
     "execution_count": 55,
     "metadata": {},
     "output_type": "execute_result"
    }
   ],
   "source": [
    "df.describe()"
   ]
  },
  {
   "cell_type": "code",
   "execution_count": 129,
   "id": "9f4ffa50-0dfc-4e4d-a238-5938ee3b13af",
   "metadata": {},
   "outputs": [
    {
     "data": {
      "text/plain": [
       "pandas.core.frame.DataFrame"
      ]
     },
     "execution_count": 129,
     "metadata": {},
     "output_type": "execute_result"
    }
   ],
   "source": [
    "type(df)"
   ]
  },
  {
   "cell_type": "code",
   "execution_count": 140,
   "id": "965a8265-9122-431f-a49c-60d9d9885623",
   "metadata": {},
   "outputs": [
    {
     "name": "stdout",
     "output_type": "stream",
     "text": [
      "File saved successfully as 'cleaned_file.xlsx'\n"
     ]
    }
   ],
   "source": [
    "df1 = pd.DataFrame(df)\n",
    "\n",
    "# Save the DataFrame to an Excel file\n",
    "df1.to_excel('cleaned_file.xlsx', index=False)\n",
    "\n",
    "print(\"File saved successfully as 'cleaned_file.xlsx'\")"
   ]
  },
  {
   "cell_type": "code",
   "execution_count": 141,
   "id": "1e661c74-0666-4af7-b6d2-3acd58f0ba6d",
   "metadata": {},
   "outputs": [],
   "source": [
    "from IPython.display import FileLink"
   ]
  },
  {
   "cell_type": "code",
   "execution_count": 144,
   "id": "c4118985-bbe7-481b-9a7d-63c129bba6e4",
   "metadata": {},
   "outputs": [
    {
     "name": "stdout",
     "output_type": "stream",
     "text": [
      "File saved successfully. Click the link below to download:\n"
     ]
    },
    {
     "data": {
      "text/html": [
       "<a href='cleaned_file.xlsx' target='_blank'>cleaned_file.xlsx</a><br>"
      ],
      "text/plain": [
       "C:\\Users\\shake\\OneDrive\\Documents\\Desktop\\cleaned_file.xlsx"
      ]
     },
     "execution_count": 144,
     "metadata": {},
     "output_type": "execute_result"
    }
   ],
   "source": [
    "output_file = 'cleaned_file.xlsx'\n",
    "df1.to_excel(output_file, index=False)\n",
    "\n",
    "# Generate a download link\n",
    "print(\"File saved successfully. Click the link below to download:\")\n",
    "FileLink(output_file)"
   ]
  },
  {
   "cell_type": "code",
   "execution_count": null,
   "id": "641982d1-d284-46ee-832a-6da0fb608346",
   "metadata": {},
   "outputs": [],
   "source": []
  },
  {
   "cell_type": "code",
   "execution_count": 146,
   "id": "c929e221-1330-496e-b0d8-0a74fa9b1b92",
   "metadata": {},
   "outputs": [
    {
     "data": {
      "image/png": "[encoded data removed]",
      "text/plain": [
       "<Figure size 1200x600 with 1 Axes>"
      ]
     },
     "metadata": {},
     "output_type": "display_data"
    }
   ],
   "source": [
    "# Count of movies per release year\n",
    "movies_per_year = df['Release_Year'].value_counts().sort_index()\n",
    "\n",
    "# Line plot\n",
    "plt.figure(figsize=(12, 6))\n",
    "sns.lineplot(x=movies_per_year.index, y=movies_per_year.values, marker='o')\n",
    "plt.title('Number of Movies Released Over the Years')\n",
    "plt.xlabel('Release Year')\n",
    "plt.ylabel('Number of Movies')\n",
    "plt.show()\n"
   ]
  },
  {
   "cell_type": "code",
   "execution_count": null,
   "id": "aff438d0-fe2f-439f-b75e-9d7a38b3e284",
   "metadata": {},
   "outputs": [],
   "source": []
  },
  {
   "cell_type": "code",
   "execution_count": 148,
   "id": "2da8b734-c765-4fce-9499-8f7da141a66f",
   "metadata": {},
   "outputs": [
    {
     "data": {
      "image/png": "[encoded data removed]",
      "text/plain": [
       "<Figure size 1000x600 with 1 Axes>"
      ]
     },
     "metadata": {},
     "output_type": "display_data"
    }
   ],
   "source": [
    "# Splitting 'genres' column and counting occurrences\n",
    "all_genres = df['genres'].str.split(', ').explode()\n",
    "top_genres = all_genres.value_counts().head(10)\n",
    "\n",
    "# Bar plot\n",
    "plt.figure(figsize=(10, 6))\n",
    "sns.barplot(x=top_genres.values, y=top_genres.index, palette='viridis')\n",
    "plt.title('Top 10 Most Common Genres')\n",
    "plt.xlabel('Number of Movies')\n",
    "plt.ylabel('Genres')\n",
    "plt.show()\n"
   ]
  },
  {
   "cell_type": "code",
   "execution_count": null,
   "id": "abae8c27-5455-4d4b-b687-8c6a1ec5a559",
   "metadata": {},
   "outputs": [],
   "source": []
  },
  {
   "cell_type": "code",
   "execution_count": 152,
   "id": "a8274e7d-4314-4810-ae55-cf2dbee53ca1",
   "metadata": {},
   "outputs": [
    {
     "data": {
      "image/png": "[encoded data removed]",
      "text/plain": [
       "<Figure size 1000x600 with 1 Axes>"
      ]
     },
     "metadata": {},
     "output_type": "display_data"
    }
   ],
   "source": [
    "# Explode Available_Countries and count\n",
    "all_countries = df['Available_Countries'].str.split(',').explode().str.strip()\n",
    "top_10_countries = all_countries.value_counts().head(10)\n",
    "\n",
    "# Bar chart\n",
    "plt.figure(figsize=(10, 6))\n",
    "sns.barplot(x=top_10_countries.values, y=top_10_countries.index, palette='coolwarm')\n",
    "plt.title('Top 10 Countries with the Most Content')\n",
    "plt.xlabel('Number of Titles')\n",
    "plt.ylabel('Countries')\n",
    "plt.show()\n"
   ]
  },
  {
   "cell_type": "code",
   "execution_count": null,
   "id": "146c58a2-ef3a-44b3-a23e-b0eb380f3e30",
   "metadata": {},
   "outputs": [],
   "source": []
  },
  {
   "cell_type": "code",
   "execution_count": 154,
   "id": "279750b0-bf99-48ad-a03a-a25e58656abc",
   "metadata": {},
   "outputs": [
    {
     "data": {
      "image/png": "[encoded data removed]",
      "text/plain": [
       "<Figure size 1200x600 with 1 Axes>"
      ]
     },
     "metadata": {},
     "output_type": "display_data"
    }
   ],
   "source": [
    "# Explode and filter top 10 countries\n",
    "df_exploded = df.assign(Available_Countries=df['Available_Countries'].str.split(',')).explode('Available_Countries')\n",
    "df_exploded['Available_Countries'] = df_exploded['Available_Countries'].str.strip()\n",
    "top_countries = df_exploded['Available_Countries'].value_counts().head(10).index\n",
    "\n",
    "# Filter top countries and group by Type\n",
    "top_countries_data = df_exploded[df_exploded['Available_Countries'].isin(top_countries)]\n",
    "country_type_split = top_countries_data.groupby(['Available_Countries', 'Type']).size().unstack(fill_value=0)\n",
    "\n",
    "# Stacked bar chart\n",
    "country_type_split.plot(kind='bar', stacked=True, figsize=(12, 6), colormap='viridis')\n",
    "plt.title('Top 10 Countries: Movie and TV Show Split')\n",
    "plt.ylabel('Count of Titles')\n",
    "plt.xlabel('Countries')\n",
    "plt.show()\n"
   ]
  },
  {
   "cell_type": "code",
   "execution_count": null,
   "id": "6e2ba0d6-62c6-419b-ab9a-316c7d759b66",
   "metadata": {},
   "outputs": [],
   "source": []
  },
  {
   "cell_type": "code",
   "execution_count": 156,
   "id": "d10a204c-c0a1-47b5-86c2-65dba2eb10fb",
   "metadata": {},
   "outputs": [
    {
     "data": {
      "image/png": "[encoded data removed]",
      "text/plain": [
       "<Figure size 800x800 with 1 Axes>"
      ]
     },
     "metadata": {},
     "output_type": "display_data"
    }
   ],
   "source": [
    "# Count distribution of types\n",
    "type_counts = df['Type'].value_counts()\n",
    "\n",
    "# Pie chart\n",
    "plt.figure(figsize=(8, 8))\n",
    "plt.pie(type_counts, labels=type_counts.index, autopct='%1.1f%%', startangle=140, colors=['#FF9999', '#66B3FF'])\n",
    "plt.title('Movie and TV Show Distribution')\n",
    "plt.show()\n"
   ]
  },
  {
   "cell_type": "code",
   "execution_count": 162,
   "id": "f15850c5-0d5e-4598-bf27-3609f979bd5d",
   "metadata": {},
   "outputs": [
    {
     "data": {
      "image/png": "[encoded data removed]",
      "text/plain": [
       "<Figure size 1200x600 with 1 Axes>"
      ]
     },
     "metadata": {},
     "output_type": "display_data"
    }
   ],
   "source": [
    "# Top 10 movies by IMDB_Num_Votes\n",
    "top_movies = df.nlargest(10, 'IMDB_Num_Votes')\n",
    "\n",
    "# Bar chart\n",
    "plt.figure(figsize=(12, 6))\n",
    "sns.barplot(x='IMDB_Num_Votes', y='Title', data=top_movies, palette='magma')\n",
    "plt.title('Top 10 Most Popular Movies by Number of Votes')\n",
    "plt.xlabel('Number of Votes')\n",
    "plt.ylabel('Movie Title')\n",
    "plt.show()\n"
   ]
  },
  {
   "cell_type": "code",
   "execution_count": null,
   "id": "bd887247-7333-46f2-8550-2aaea6583c61",
   "metadata": {},
   "outputs": [],
   "source": []
  },
  {
   "cell_type": "code",
   "execution_count": 165,
   "id": "c03a8942-6192-4530-9f9a-d7f1248666ce",
   "metadata": {},
   "outputs": [
    {
     "data": {
      "application/vnd.plotly.v1+json": {
       "config": {
        "plotlyServerURL": "https://plot.ly"
       },
       "data": [
        {
         "coloraxis": "coloraxis",
         "geo": "geo",
         "hovertemplate": "Country=%{location}<br>Count=%{z}<extra></extra>",
         "locationmode": "ISO-3",
         "locations": [
          "SK",
          "BG",
          "LV",
          "SI",
          "IS",
          "LT",
          "GB",
          "ES",
          "DE",
          "PT",
          "RO",
          "MT",
          "IT",
          "AT",
          "LI",
          "IE",
          "EE",
          "CH",
          "GR",
          "PH",
          "SE",
          "FR",
          "TH",
          "BE",
          "NO",
          "SG",
          "FI",
          "PL",
          "LU",
          "NL",
          "ID",
          "AU",
          "JP",
          "GI",
          "CA",
          "CZ",
          "BM",
          "NZ",
          "KR",
          "DK",
          "HR",
          "GG",
          "TW",
          "HU",
          "US",
          "FJ",
          "BB",
          "LC",
          "TT",
          "JM",
          "TC",
          "AG",
          "IN",
          "BR",
          "RS",
          "MX",
          "BA",
          "MK",
          "CY",
          "BS",
          "BZ",
          "AL",
          "AR",
          "UY",
          "DZ",
          "ME",
          "CR",
          "TN",
          "ZA",
          "CL",
          "PE",
          "GT",
          "DO",
          "MA",
          "PY",
          "LB",
          "JO",
          "EG",
          "BO",
          "KW",
          "QA",
          "MC",
          "PK",
          "SA",
          "AE",
          "VE",
          "EC",
          "TZ",
          "SN",
          "GH",
          "CI",
          "HK",
          "CV",
          "KE",
          "NG",
          "MU",
          "CO",
          "PS",
          "MZ",
          "BH",
          "PA",
          "MY",
          "SV",
          "GF",
          "ZM",
          "HN",
          "TR",
          "UG",
          "ZW",
          "AO",
          "OM",
          "IQ",
          "LY",
          "AZ",
          "NE",
          "MG",
          "NI",
          "ML",
          "BY",
          "CM",
          "AD",
          "SC",
          "YE",
          "PF",
          "SM",
          "IL",
          "MD",
          "CU",
          "GQ",
          "UA",
          "TD"
         ],
         "name": "",
         "type": "choropleth",
         "z": [
          8826,
          8676,
          8638,
          8636,
          8547,
          8517,
          8373,
          8290,
          8229,
          8226,
          8196,
          8146,
          8120,
          8107,
          8038,
          7994,
          7954,
          7899,
          7895,
          7875,
          7872,
          7849,
          7775,
          7728,
          7639,
          7611,
          7594,
          7558,
          7537,
          7514,
          7443,
          7419,
          7415,
          7412,
          7411,
          7391,
          7376,
          7372,
          7315,
          7264,
          7235,
          7234,
          7172,
          7160,
          7129,
          7122,
          7099,
          7095,
          7092,
          7086,
          7075,
          7037,
          7030,
          7028,
          7027,
          7024,
          7017,
          7016,
          6973,
          6935,
          6926,
          6918,
          6918,
          6896,
          6881,
          6857,
          6853,
          6852,
          6826,
          6802,
          6793,
          6792,
          6792,
          6786,
          6783,
          6780,
          6773,
          6764,
          6760,
          6759,
          6753,
          6738,
          6736,
          6725,
          6723,
          6697,
          6690,
          6681,
          6677,
          6661,
          6660,
          6660,
          6659,
          6656,
          6646,
          6636,
          6633,
          6631,
          6629,
          6628,
          6621,
          6617,
          6607,
          6583,
          6581,
          6579,
          6575,
          6571,
          6548,
          6539,
          6537,
          6528,
          6526,
          6524,
          6508,
          6499,
          6497,
          6496,
          6492,
          6316,
          6303,
          6287,
          6174,
          6144,
          6102,
          6080,
          6027,
          6018,
          5830,
          3644,
          823
         ]
        }
       ],
       "layout": {
        "autosize": true,
        "coloraxis": {
         "colorbar": {
          "title": {
           "text": "Count"
          }
         },
         "colorscale": [
          [
           0,
           "#0d0887"
          ],
          [
           0.1111111111111111,
           "#46039f"
          ],
          [
           0.2222222222222222,
           "#7201a8"
          ],
          [
           0.3333333333333333,
           "#9c179e"
          ],
          [
           0.4444444444444444,
           "#bd3786"
          ],
          [
           0.5555555555555556,
           "#d8576b"
          ],
          [
           0.6666666666666666,
           "#ed7953"
          ],
          [
           0.7777777777777778,
           "#fb9f3a"
          ],
          [
           0.8888888888888888,
           "#fdca26"
          ],
          [
           1,
           "#f0f921"
          ]
         ]
        },
        "geo": {
         "center": {
          "lat": 56.25339259197422,
          "lon": -120.02185970444629
         },
         "domain": {
          "x": [
           0,
           1
          ],
          "y": [
           0,
           1
          ]
         },
         "projection": {
          "rotation": {
           "lon": -120.02185970444629
          },
          "scale": 522.7582083620822
         }
        },
        "legend": {
         "tracegroupgap": 0
        },
        "template": {
         "data": {
          "bar": [
           {
            "error_x": {
             "color": "#2a3f5f"
            },
            "error_y": {
             "color": "#2a3f5f"
            },
            "marker": {
             "line": {
              "color": "#E5ECF6",
              "width": 0.5
             },
             "pattern": {
              "fillmode": "overlay",
              "size": 10,
              "solidity": 0.2
             }
            },
            "type": "bar"
           }
          ],
          "barpolar": [
           {
            "marker": {
             "line": {
              "color": "#E5ECF6",
              "width": 0.5
             },
             "pattern": {
              "fillmode": "overlay",
              "size": 10,
              "solidity": 0.2
             }
            },
            "type": "barpolar"
           }
          ],
          "carpet": [
           {
            "aaxis": {
             "endlinecolor": "#2a3f5f",
             "gridcolor": "white",
             "linecolor": "white",
             "minorgridcolor": "white",
             "startlinecolor": "#2a3f5f"
            },
            "baxis": {
             "endlinecolor": "#2a3f5f",
             "gridcolor": "white",
             "linecolor": "white",
             "minorgridcolor": "white",
             "startlinecolor": "#2a3f5f"
            },
            "type": "carpet"
           }
          ],
          "choropleth": [
           {
            "colorbar": {
             "outlinewidth": 0,
             "ticks": ""
            },
            "type": "choropleth"
           }
          ],
          "contour": [
           {
            "colorbar": {
             "outlinewidth": 0,
             "ticks": ""
            },
            "colorscale": [
             [
              0,
              "#0d0887"
             ],
             [
              0.1111111111111111,
              "#46039f"
             ],
             [
              0.2222222222222222,
              "#7201a8"
             ],
             [
              0.3333333333333333,
              "#9c179e"
             ],
             [
              0.4444444444444444,
              "#bd3786"
             ],
             [
              0.5555555555555556,
              "#d8576b"
             ],
             [
              0.6666666666666666,
              "#ed7953"
             ],
             [
              0.7777777777777778,
              "#fb9f3a"
             ],
             [
              0.8888888888888888,
              "#fdca26"
             ],
             [
              1,
              "#f0f921"
             ]
            ],
            "type": "contour"
           }
          ],
          "contourcarpet": [
           {
            "colorbar": {
             "outlinewidth": 0,
             "ticks": ""
            },
            "type": "contourcarpet"
           }
          ],
          "heatmap": [
           {
            "colorbar": {
             "outlinewidth": 0,
             "ticks": ""
            },
            "colorscale": [
             [
              0,
              "#0d0887"
             ],
             [
              0.1111111111111111,
              "#46039f"
             ],
             [
              0.2222222222222222,
              "#7201a8"
             ],
             [
              0.3333333333333333,
              "#9c179e"
             ],
             [
              0.4444444444444444,
              "#bd3786"
             ],
             [
              0.5555555555555556,
              "#d8576b"
             ],
             [
              0.6666666666666666,
              "#ed7953"
             ],
             [
              0.7777777777777778,
              "#fb9f3a"
             ],
             [
              0.8888888888888888,
              "#fdca26"
             ],
             [
              1,
              "#f0f921"
             ]
            ],
            "type": "heatmap"
           }
          ],
          "heatmapgl": [
           {
            "colorbar": {
             "outlinewidth": 0,
             "ticks": ""
            },
            "colorscale": [
             [
              0,
              "#0d0887"
             ],
             [
              0.1111111111111111,
              "#46039f"
             ],
             [
              0.2222222222222222,
              "#7201a8"
             ],
             [
              0.3333333333333333,
              "#9c179e"
             ],
             [
              0.4444444444444444,
              "#bd3786"
             ],
             [
              0.5555555555555556,
              "#d8576b"
             ],
             [
              0.6666666666666666,
              "#ed7953"
             ],
             [
              0.7777777777777778,
              "#fb9f3a"
             ],
             [
              0.8888888888888888,
              "#fdca26"
             ],
             [
              1,
              "#f0f921"
             ]
            ],
            "type": "heatmapgl"
           }
          ],
          "histogram": [
           {
            "marker": {
             "pattern": {
              "fillmode": "overlay",
              "size": 10,
              "solidity": 0.2
             }
            },
            "type": "histogram"
           }
          ],
          "histogram2d": [
           {
            "colorbar": {
             "outlinewidth": 0,
             "ticks": ""
            },
            "colorscale": [
             [
              0,
              "#0d0887"
             ],
             [
              0.1111111111111111,
              "#46039f"
             ],
             [
              0.2222222222222222,
              "#7201a8"
             ],
             [
              0.3333333333333333,
              "#9c179e"
             ],
             [
              0.4444444444444444,
              "#bd3786"
             ],
             [
              0.5555555555555556,
              "#d8576b"
             ],
             [
              0.6666666666666666,
              "#ed7953"
             ],
             [
              0.7777777777777778,
              "#fb9f3a"
             ],
             [
              0.8888888888888888,
              "#fdca26"
             ],
             [
              1,
              "#f0f921"
             ]
            ],
            "type": "histogram2d"
           }
          ],
          "histogram2dcontour": [
           {
            "colorbar": {
             "outlinewidth": 0,
             "ticks": ""
            },
            "colorscale": [
             [
              0,
              "#0d0887"
             ],
             [
              0.1111111111111111,
              "#46039f"
             ],
             [
              0.2222222222222222,
              "#7201a8"
             ],
             [
              0.3333333333333333,
              "#9c179e"
             ],
             [
              0.4444444444444444,
              "#bd3786"
             ],
             [
              0.5555555555555556,
              "#d8576b"
             ],
             [
              0.6666666666666666,
              "#ed7953"
             ],
             [
              0.7777777777777778,
              "#fb9f3a"
             ],
             [
              0.8888888888888888,
              "#fdca26"
             ],
             [
              1,
              "#f0f921"
             ]
            ],
            "type": "histogram2dcontour"
           }
          ],
          "mesh3d": [
           {
            "colorbar": {
             "outlinewidth": 0,
             "ticks": ""
            },
            "type": "mesh3d"
           }
          ],
          "parcoords": [
           {
            "line": {
             "colorbar": {
              "outlinewidth": 0,
              "ticks": ""
             }
            },
            "type": "parcoords"
           }
          ],
          "pie": [
           {
            "automargin": true,
            "type": "pie"
           }
          ],
          "scatter": [
           {
            "fillpattern": {
             "fillmode": "overlay",
             "size": 10,
             "solidity": 0.2
            },
            "type": "scatter"
           }
          ],
          "scatter3d": [
           {
            "line": {
             "colorbar": {
              "outlinewidth": 0,
              "ticks": ""
             }
            },
            "marker": {
             "colorbar": {
              "outlinewidth": 0,
              "ticks": ""
             }
            },
            "type": "scatter3d"
           }
          ],
          "scattercarpet": [
           {
            "marker": {
             "colorbar": {
              "outlinewidth": 0,
              "ticks": ""
             }
            },
            "type": "scattercarpet"
           }
          ],
          "scattergeo": [
           {
            "marker": {
             "colorbar": {
              "outlinewidth": 0,
              "ticks": ""
             }
            },
            "type": "scattergeo"
           }
          ],
          "scattergl": [
           {
            "marker": {
             "colorbar": {
              "outlinewidth": 0,
              "ticks": ""
             }
            },
            "type": "scattergl"
           }
          ],
          "scattermapbox": [
           {
            "marker": {
             "colorbar": {
              "outlinewidth": 0,
              "ticks": ""
             }
            },
            "type": "scattermapbox"
           }
          ],
          "scatterpolar": [
           {
            "marker": {
             "colorbar": {
              "outlinewidth": 0,
              "ticks": ""
             }
            },
            "type": "scatterpolar"
           }
          ],
          "scatterpolargl": [
           {
            "marker": {
             "colorbar": {
              "outlinewidth": 0,
              "ticks": ""
             }
            },
            "type": "scatterpolargl"
           }
          ],
          "scatterternary": [
           {
            "marker": {
             "colorbar": {
              "outlinewidth": 0,
              "ticks": ""
             }
            },
            "type": "scatterternary"
           }
          ],
          "surface": [
           {
            "colorbar": {
             "outlinewidth": 0,
             "ticks": ""
            },
            "colorscale": [
             [
              0,
              "#0d0887"
             ],
             [
              0.1111111111111111,
              "#46039f"
             ],
             [
              0.2222222222222222,
              "#7201a8"
             ],
             [
              0.3333333333333333,
              "#9c179e"
             ],
             [
              0.4444444444444444,
              "#bd3786"
             ],
             [
              0.5555555555555556,
              "#d8576b"
             ],
             [
              0.6666666666666666,
              "#ed7953"
             ],
             [
              0.7777777777777778,
              "#fb9f3a"
             ],
             [
              0.8888888888888888,
              "#fdca26"
             ],
             [
              1,
              "#f0f921"
             ]
            ],
            "type": "surface"
           }
          ],
          "table": [
           {
            "cells": {
             "fill": {
              "color": "#EBF0F8"
             },
             "line": {
              "color": "white"
             }
            },
            "header": {
             "fill": {
              "color": "#C8D4E3"
             },
             "line": {
              "color": "white"
             }
            },
            "type": "table"
           }
          ]
         },
         "layout": {
          "annotationdefaults": {
           "arrowcolor": "#2a3f5f",
           "arrowhead": 0,
           "arrowwidth": 1
          },
          "autotypenumbers": "strict",
          "coloraxis": {
           "colorbar": {
            "outlinewidth": 0,
            "ticks": ""
           }
          },
          "colorscale": {
           "diverging": [
            [
             0,
             "#8e0152"
            ],
            [
             0.1,
             "#c51b7d"
            ],
            [
             0.2,
             "#de77ae"
            ],
            [
             0.3,
             "#f1b6da"
            ],
            [
             0.4,
             "#fde0ef"
            ],
            [
             0.5,
             "#f7f7f7"
            ],
            [
             0.6,
             "#e6f5d0"
            ],
            [
             0.7,
             "#b8e186"
            ],
            [
             0.8,
             "#7fbc41"
            ],
            [
             0.9,
             "#4d9221"
            ],
            [
             1,
             "#276419"
            ]
           ],
           "sequential": [
            [
             0,
             "#0d0887"
            ],
            [
             0.1111111111111111,
             "#46039f"
            ],
            [
             0.2222222222222222,
             "#7201a8"
            ],
            [
             0.3333333333333333,
             "#9c179e"
            ],
            [
             0.4444444444444444,
             "#bd3786"
            ],
            [
             0.5555555555555556,
             "#d8576b"
            ],
            [
             0.6666666666666666,
             "#ed7953"
            ],
            [
             0.7777777777777778,
             "#fb9f3a"
            ],
            [
             0.8888888888888888,
             "#fdca26"
            ],
            [
             1,
             "#f0f921"
            ]
           ],
           "sequentialminus": [
            [
             0,
             "#0d0887"
            ],
            [
             0.1111111111111111,
             "#46039f"
            ],
            [
             0.2222222222222222,
             "#7201a8"
            ],
            [
             0.3333333333333333,
             "#9c179e"
            ],
            [
             0.4444444444444444,
             "#bd3786"
            ],
            [
             0.5555555555555556,
             "#d8576b"
            ],
            [
             0.6666666666666666,
             "#ed7953"
            ],
            [
             0.7777777777777778,
             "#fb9f3a"
            ],
            [
             0.8888888888888888,
             "#fdca26"
            ],
            [
             1,
             "#f0f921"
            ]
           ]
          },
          "colorway": [
           "#636efa",
           "#EF553B",
           "#00cc96",
           "#ab63fa",
           "#FFA15A",
           "#19d3f3",
           "#FF6692",
           "#B6E880",
           "#FF97FF",
           "#FECB52"
          ],
          "font": {
           "color": "#2a3f5f"
          },
          "geo": {
           "bgcolor": "white",
           "lakecolor": "white",
           "landcolor": "#E5ECF6",
           "showlakes": true,
           "showland": true,
           "subunitcolor": "white"
          },
          "hoverlabel": {
           "align": "left"
          },
          "hovermode": "closest",
          "mapbox": {
           "style": "light"
          },
          "paper_bgcolor": "white",
          "plot_bgcolor": "#E5ECF6",
          "polar": {
           "angularaxis": {
            "gridcolor": "white",
            "linecolor": "white",
            "ticks": ""
           },
           "bgcolor": "#E5ECF6",
           "radialaxis": {
            "gridcolor": "white",
            "linecolor": "white",
            "ticks": ""
           }
          },
          "scene": {
           "xaxis": {
            "backgroundcolor": "#E5ECF6",
            "gridcolor": "white",
            "gridwidth": 2,
            "linecolor": "white",
            "showbackground": true,
            "ticks": "",
            "zerolinecolor": "white"
           },
           "yaxis": {
            "backgroundcolor": "#E5ECF6",
            "gridcolor": "white",
            "gridwidth": 2,
            "linecolor": "white",
            "showbackground": true,
            "ticks": "",
            "zerolinecolor": "white"
           },
           "zaxis": {
            "backgroundcolor": "#E5ECF6",
            "gridcolor": "white",
            "gridwidth": 2,
            "linecolor": "white",
            "showbackground": true,
            "ticks": "",
            "zerolinecolor": "white"
           }
          },
          "shapedefaults": {
           "line": {
            "color": "#2a3f5f"
           }
          },
          "ternary": {
           "aaxis": {
            "gridcolor": "white",
            "linecolor": "white",
            "ticks": ""
           },
           "baxis": {
            "gridcolor": "white",
            "linecolor": "white",
            "ticks": ""
           },
           "bgcolor": "#E5ECF6",
           "caxis": {
            "gridcolor": "white",
            "linecolor": "white",
            "ticks": ""
           }
          },
          "title": {
           "x": 0.05
          },
          "xaxis": {
           "automargin": true,
           "gridcolor": "white",
           "linecolor": "white",
           "ticks": "",
           "title": {
            "standoff": 15
           },
           "zerolinecolor": "white",
           "zerolinewidth": 2
          },
          "yaxis": {
           "automargin": true,
           "gridcolor": "white",
           "linecolor": "white",
           "ticks": "",
           "title": {
            "standoff": 15
           },
           "zerolinecolor": "white",
           "zerolinewidth": 2
          }
         }
        },
        "title": {
         "text": "Content Availability Across Countries"
        }
       }
      },
      "image/png": "[encoded data removed]",
      "text/html": [
       "<div>                            <div id=\"9d3a7c8b-9cc7-4ecf-9598-9634fff3a0e4\" class=\"plotly-graph-div\" style=\"height:525px; width:100%;\"></div>            <script type=\"text/javascript\">                require([\"plotly\"], function(Plotly) {                    window.PLOTLYENV=window.PLOTLYENV || {};                                    if (document.getElementById(\"9d3a7c8b-9cc7-4ecf-9598-9634fff3a0e4\")) {                    Plotly.newPlot(                        \"9d3a7c8b-9cc7-4ecf-9598-9634fff3a0e4\",                        [{\"coloraxis\":\"coloraxis\",\"geo\":\"geo\",\"hovertemplate\":\"Country=%{location}\\u003cbr\\u003eCount=%{z}\\u003cextra\\u003e\\u003c\\u002fextra\\u003e\",\"locationmode\":\"ISO-3\",\"locations\":[\"SK\",\"BG\",\"LV\",\"SI\",\"IS\",\"LT\",\"GB\",\"ES\",\"DE\",\"PT\",\"RO\",\"MT\",\"IT\",\"AT\",\"LI\",\"IE\",\"EE\",\"CH\",\"GR\",\"PH\",\"SE\",\"FR\",\"TH\",\"BE\",\"NO\",\"SG\",\"FI\",\"PL\",\"LU\",\"NL\",\"ID\",\"AU\",\"JP\",\"GI\",\"CA\",\"CZ\",\"BM\",\"NZ\",\"KR\",\"DK\",\"HR\",\"GG\",\"TW\",\"HU\",\"US\",\"FJ\",\"BB\",\"LC\",\"TT\",\"JM\",\"TC\",\"AG\",\"IN\",\"BR\",\"RS\",\"MX\",\"BA\",\"MK\",\"CY\",\"BS\",\"BZ\",\"AL\",\"AR\",\"UY\",\"DZ\",\"ME\",\"CR\",\"TN\",\"ZA\",\"CL\",\"PE\",\"GT\",\"DO\",\"MA\",\"PY\",\"LB\",\"JO\",\"EG\",\"BO\",\"KW\",\"QA\",\"MC\",\"PK\",\"SA\",\"AE\",\"VE\",\"EC\",\"TZ\",\"SN\",\"GH\",\"CI\",\"HK\",\"CV\",\"KE\",\"NG\",\"MU\",\"CO\",\"PS\",\"MZ\",\"BH\",\"PA\",\"MY\",\"SV\",\"GF\",\"ZM\",\"HN\",\"TR\",\"UG\",\"ZW\",\"AO\",\"OM\",\"IQ\",\"LY\",\"AZ\",\"NE\",\"MG\",\"NI\",\"ML\",\"BY\",\"CM\",\"AD\",\"SC\",\"YE\",\"PF\",\"SM\",\"IL\",\"MD\",\"CU\",\"GQ\",\"UA\",\"TD\"],\"name\":\"\",\"z\":[8826,8676,8638,8636,8547,8517,8373,8290,8229,8226,8196,8146,8120,8107,8038,7994,7954,7899,7895,7875,7872,7849,7775,7728,7639,7611,7594,7558,7537,7514,7443,7419,7415,7412,7411,7391,7376,7372,7315,7264,7235,7234,7172,7160,7129,7122,7099,7095,7092,7086,7075,7037,7030,7028,7027,7024,7017,7016,6973,6935,6926,6918,6918,6896,6881,6857,6853,6852,6826,6802,6793,6792,6792,6786,6783,6780,6773,6764,6760,6759,6753,6738,6736,6725,6723,6697,6690,6681,6677,6661,6660,6660,6659,6656,6646,6636,6633,6631,6629,6628,6621,6617,6607,6583,6581,6579,6575,6571,6548,6539,6537,6528,6526,6524,6508,6499,6497,6496,6492,6316,6303,6287,6174,6144,6102,6080,6027,6018,5830,3644,823],\"type\":\"choropleth\"}],                        {\"template\":{\"data\":{\"histogram2dcontour\":[{\"type\":\"histogram2dcontour\",\"colorbar\":{\"outlinewidth\":0,\"ticks\":\"\"},\"colorscale\":[[0.0,\"#0d0887\"],[0.1111111111111111,\"#46039f\"],[0.2222222222222222,\"#7201a8\"],[0.3333333333333333,\"#9c179e\"],[0.4444444444444444,\"#bd3786\"],[0.5555555555555556,\"#d8576b\"],[0.6666666666666666,\"#ed7953\"],[0.7777777777777778,\"#fb9f3a\"],[0.8888888888888888,\"#fdca26\"],[1.0,\"#f0f921\"]]}],\"choropleth\":[{\"type\":\"choropleth\",\"colorbar\":{\"outlinewidth\":0,\"ticks\":\"\"}}],\"histogram2d\":[{\"type\":\"histogram2d\",\"colorbar\":{\"outlinewidth\":0,\"ticks\":\"\"},\"colorscale\":[[0.0,\"#0d0887\"],[0.1111111111111111,\"#46039f\"],[0.2222222222222222,\"#7201a8\"],[0.3333333333333333,\"#9c179e\"],[0.4444444444444444,\"#bd3786\"],[0.5555555555555556,\"#d8576b\"],[0.6666666666666666,\"#ed7953\"],[0.7777777777777778,\"#fb9f3a\"],[0.8888888888888888,\"#fdca26\"],[1.0,\"#f0f921\"]]}],\"heatmap\":[{\"type\":\"heatmap\",\"colorbar\":{\"outlinewidth\":0,\"ticks\":\"\"},\"colorscale\":[[0.0,\"#0d0887\"],[0.1111111111111111,\"#46039f\"],[0.2222222222222222,\"#7201a8\"],[0.3333333333333333,\"#9c179e\"],[0.4444444444444444,\"#bd3786\"],[0.5555555555555556,\"#d8576b\"],[0.6666666666666666,\"#ed7953\"],[0.7777777777777778,\"#fb9f3a\"],[0.8888888888888888,\"#fdca26\"],[1.0,\"#f0f921\"]]}],\"heatmapgl\":[{\"type\":\"heatmapgl\",\"colorbar\":{\"outlinewidth\":0,\"ticks\":\"\"},\"colorscale\":[[0.0,\"#0d0887\"],[0.1111111111111111,\"#46039f\"],[0.2222222222222222,\"#7201a8\"],[0.3333333333333333,\"#9c179e\"],[0.4444444444444444,\"#bd3786\"],[0.5555555555555556,\"#d8576b\"],[0.6666666666666666,\"#ed7953\"],[0.7777777777777778,\"#fb9f3a\"],[0.8888888888888888,\"#fdca26\"],[1.0,\"#f0f921\"]]}],\"contourcarpet\":[{\"type\":\"contourcarpet\",\"colorbar\":{\"outlinewidth\":0,\"ticks\":\"\"}}],\"contour\":[{\"type\":\"contour\",\"colorbar\":{\"outlinewidth\":0,\"ticks\":\"\"},\"colorscale\":[[0.0,\"#0d0887\"],[0.1111111111111111,\"#46039f\"],[0.2222222222222222,\"#7201a8\"],[0.3333333333333333,\"#9c179e\"],[0.4444444444444444,\"#bd3786\"],[0.5555555555555556,\"#d8576b\"],[0.6666666666666666,\"#ed7953\"],[0.7777777777777778,\"#fb9f3a\"],[0.8888888888888888,\"#fdca26\"],[1.0,\"#f0f921\"]]}],\"surface\":[{\"type\":\"surface\",\"colorbar\":{\"outlinewidth\":0,\"ticks\":\"\"},\"colorscale\":[[0.0,\"#0d0887\"],[0.1111111111111111,\"#46039f\"],[0.2222222222222222,\"#7201a8\"],[0.3333333333333333,\"#9c179e\"],[0.4444444444444444,\"#bd3786\"],[0.5555555555555556,\"#d8576b\"],[0.6666666666666666,\"#ed7953\"],[0.7777777777777778,\"#fb9f3a\"],[0.8888888888888888,\"#fdca26\"],[1.0,\"#f0f921\"]]}],\"mesh3d\":[{\"type\":\"mesh3d\",\"colorbar\":{\"outlinewidth\":0,\"ticks\":\"\"}}],\"scatter\":[{\"fillpattern\":{\"fillmode\":\"overlay\",\"size\":10,\"solidity\":0.2},\"type\":\"scatter\"}],\"parcoords\":[{\"type\":\"parcoords\",\"line\":{\"colorbar\":{\"outlinewidth\":0,\"ticks\":\"\"}}}],\"scatterpolargl\":[{\"type\":\"scatterpolargl\",\"marker\":{\"colorbar\":{\"outlinewidth\":0,\"ticks\":\"\"}}}],\"bar\":[{\"error_x\":{\"color\":\"#2a3f5f\"},\"error_y\":{\"color\":\"#2a3f5f\"},\"marker\":{\"line\":{\"color\":\"#E5ECF6\",\"width\":0.5},\"pattern\":{\"fillmode\":\"overlay\",\"size\":10,\"solidity\":0.2}},\"type\":\"bar\"}],\"scattergeo\":[{\"type\":\"scattergeo\",\"marker\":{\"colorbar\":{\"outlinewidth\":0,\"ticks\":\"\"}}}],\"scatterpolar\":[{\"type\":\"scatterpolar\",\"marker\":{\"colorbar\":{\"outlinewidth\":0,\"ticks\":\"\"}}}],\"histogram\":[{\"marker\":{\"pattern\":{\"fillmode\":\"overlay\",\"size\":10,\"solidity\":0.2}},\"type\":\"histogram\"}],\"scattergl\":[{\"type\":\"scattergl\",\"marker\":{\"colorbar\":{\"outlinewidth\":0,\"ticks\":\"\"}}}],\"scatter3d\":[{\"type\":\"scatter3d\",\"line\":{\"colorbar\":{\"outlinewidth\":0,\"ticks\":\"\"}},\"marker\":{\"colorbar\":{\"outlinewidth\":0,\"ticks\":\"\"}}}],\"scattermapbox\":[{\"type\":\"scattermapbox\",\"marker\":{\"colorbar\":{\"outlinewidth\":0,\"ticks\":\"\"}}}],\"scatterternary\":[{\"type\":\"scatterternary\",\"marker\":{\"colorbar\":{\"outlinewidth\":0,\"ticks\":\"\"}}}],\"scattercarpet\":[{\"type\":\"scattercarpet\",\"marker\":{\"colorbar\":{\"outlinewidth\":0,\"ticks\":\"\"}}}],\"carpet\":[{\"aaxis\":{\"endlinecolor\":\"#2a3f5f\",\"gridcolor\":\"white\",\"linecolor\":\"white\",\"minorgridcolor\":\"white\",\"startlinecolor\":\"#2a3f5f\"},\"baxis\":{\"endlinecolor\":\"#2a3f5f\",\"gridcolor\":\"white\",\"linecolor\":\"white\",\"minorgridcolor\":\"white\",\"startlinecolor\":\"#2a3f5f\"},\"type\":\"carpet\"}],\"table\":[{\"cells\":{\"fill\":{\"color\":\"#EBF0F8\"},\"line\":{\"color\":\"white\"}},\"header\":{\"fill\":{\"color\":\"#C8D4E3\"},\"line\":{\"color\":\"white\"}},\"type\":\"table\"}],\"barpolar\":[{\"marker\":{\"line\":{\"color\":\"#E5ECF6\",\"width\":0.5},\"pattern\":{\"fillmode\":\"overlay\",\"size\":10,\"solidity\":0.2}},\"type\":\"barpolar\"}],\"pie\":[{\"automargin\":true,\"type\":\"pie\"}]},\"layout\":{\"autotypenumbers\":\"strict\",\"colorway\":[\"#636efa\",\"#EF553B\",\"#00cc96\",\"#ab63fa\",\"#FFA15A\",\"#19d3f3\",\"#FF6692\",\"#B6E880\",\"#FF97FF\",\"#FECB52\"],\"font\":{\"color\":\"#2a3f5f\"},\"hovermode\":\"closest\",\"hoverlabel\":{\"align\":\"left\"},\"paper_bgcolor\":\"white\",\"plot_bgcolor\":\"#E5ECF6\",\"polar\":{\"bgcolor\":\"#E5ECF6\",\"angularaxis\":{\"gridcolor\":\"white\",\"linecolor\":\"white\",\"ticks\":\"\"},\"radialaxis\":{\"gridcolor\":\"white\",\"linecolor\":\"white\",\"ticks\":\"\"}},\"ternary\":{\"bgcolor\":\"#E5ECF6\",\"aaxis\":{\"gridcolor\":\"white\",\"linecolor\":\"white\",\"ticks\":\"\"},\"baxis\":{\"gridcolor\":\"white\",\"linecolor\":\"white\",\"ticks\":\"\"},\"caxis\":{\"gridcolor\":\"white\",\"linecolor\":\"white\",\"ticks\":\"\"}},\"coloraxis\":{\"colorbar\":{\"outlinewidth\":0,\"ticks\":\"\"}},\"colorscale\":{\"sequential\":[[0.0,\"#0d0887\"],[0.1111111111111111,\"#46039f\"],[0.2222222222222222,\"#7201a8\"],[0.3333333333333333,\"#9c179e\"],[0.4444444444444444,\"#bd3786\"],[0.5555555555555556,\"#d8576b\"],[0.6666666666666666,\"#ed7953\"],[0.7777777777777778,\"#fb9f3a\"],[0.8888888888888888,\"#fdca26\"],[1.0,\"#f0f921\"]],\"sequentialminus\":[[0.0,\"#0d0887\"],[0.1111111111111111,\"#46039f\"],[0.2222222222222222,\"#7201a8\"],[0.3333333333333333,\"#9c179e\"],[0.4444444444444444,\"#bd3786\"],[0.5555555555555556,\"#d8576b\"],[0.6666666666666666,\"#ed7953\"],[0.7777777777777778,\"#fb9f3a\"],[0.8888888888888888,\"#fdca26\"],[1.0,\"#f0f921\"]],\"diverging\":[[0,\"#8e0152\"],[0.1,\"#c51b7d\"],[0.2,\"#de77ae\"],[0.3,\"#f1b6da\"],[0.4,\"#fde0ef\"],[0.5,\"#f7f7f7\"],[0.6,\"#e6f5d0\"],[0.7,\"#b8e186\"],[0.8,\"#7fbc41\"],[0.9,\"#4d9221\"],[1,\"#276419\"]]},\"xaxis\":{\"gridcolor\":\"white\",\"linecolor\":\"white\",\"ticks\":\"\",\"title\":{\"standoff\":15},\"zerolinecolor\":\"white\",\"automargin\":true,\"zerolinewidth\":2},\"yaxis\":{\"gridcolor\":\"white\",\"linecolor\":\"white\",\"ticks\":\"\",\"title\":{\"standoff\":15},\"zerolinecolor\":\"white\",\"automargin\":true,\"zerolinewidth\":2},\"scene\":{\"xaxis\":{\"backgroundcolor\":\"#E5ECF6\",\"gridcolor\":\"white\",\"linecolor\":\"white\",\"showbackground\":true,\"ticks\":\"\",\"zerolinecolor\":\"white\",\"gridwidth\":2},\"yaxis\":{\"backgroundcolor\":\"#E5ECF6\",\"gridcolor\":\"white\",\"linecolor\":\"white\",\"showbackground\":true,\"ticks\":\"\",\"zerolinecolor\":\"white\",\"gridwidth\":2},\"zaxis\":{\"backgroundcolor\":\"#E5ECF6\",\"gridcolor\":\"white\",\"linecolor\":\"white\",\"showbackground\":true,\"ticks\":\"\",\"zerolinecolor\":\"white\",\"gridwidth\":2}},\"shapedefaults\":{\"line\":{\"color\":\"#2a3f5f\"}},\"annotationdefaults\":{\"arrowcolor\":\"#2a3f5f\",\"arrowhead\":0,\"arrowwidth\":1},\"geo\":{\"bgcolor\":\"white\",\"landcolor\":\"#E5ECF6\",\"subunitcolor\":\"white\",\"showland\":true,\"showlakes\":true,\"lakecolor\":\"white\"},\"title\":{\"x\":0.05},\"mapbox\":{\"style\":\"light\"}}},\"geo\":{\"domain\":{\"x\":[0.0,1.0],\"y\":[0.0,1.0]},\"center\":{}},\"coloraxis\":{\"colorbar\":{\"title\":{\"text\":\"Count\"}},\"colorscale\":[[0.0,\"#0d0887\"],[0.1111111111111111,\"#46039f\"],[0.2222222222222222,\"#7201a8\"],[0.3333333333333333,\"#9c179e\"],[0.4444444444444444,\"#bd3786\"],[0.5555555555555556,\"#d8576b\"],[0.6666666666666666,\"#ed7953\"],[0.7777777777777778,\"#fb9f3a\"],[0.8888888888888888,\"#fdca26\"],[1.0,\"#f0f921\"]]},\"legend\":{\"tracegroupgap\":0},\"title\":{\"text\":\"Content Availability Across Countries\"}},                        {\"responsive\": true}                    ).then(function(){\n",
       "                            \n",
       "var gd = document.getElementById('9d3a7c8b-9cc7-4ecf-9598-9634fff3a0e4');\n",
       "var x = new MutationObserver(function (mutations, observer) {{\n",
       "        var display = window.getComputedStyle(gd).display;\n",
       "        if (!display || display === 'none') {{\n",
       "            console.log([gd, 'removed!']);\n",
       "            Plotly.purge(gd);\n",
       "            observer.disconnect();\n",
       "        }}\n",
       "}});\n",
       "\n",
       "// Listen for the removal of the full notebook cells\n",
       "var notebookContainer = gd.closest('#notebook-container');\n",
       "if (notebookContainer) {{\n",
       "    x.observe(notebookContainer, {childList: true});\n",
       "}}\n",
       "\n",
       "// Listen for the clearing of the current output cell\n",
       "var outputEl = gd.closest('.output');\n",
       "if (outputEl) {{\n",
       "    x.observe(outputEl, {childList: true});\n",
       "}}\n",
       "\n",
       "                        })                };                });            </script>        </div>"
      ]
     },
     "metadata": {},
     "output_type": "display_data"
    }
   ],
   "source": [
    "import plotly.express as px\n",
    "\n",
    "# Explode countries for mapping\n",
    "country_data = df['Available_Countries'].str.split(',').explode().str.strip().value_counts().reset_index()\n",
    "country_data.columns = ['Country', 'Count']\n",
    "\n",
    "# Map chart\n",
    "fig = px.choropleth(country_data,\n",
    "                    locations='Country',\n",
    "                    locationmode='ISO-3',  # Requires ISO 3 codes for countries\n",
    "                    color='Count',\n",
    "                    title='Content Availability Across Countries',\n",
    "                    color_continuous_scale='plasma')\n",
    "\n",
    "fig.show()\n"
   ]
  },
  {
   "cell_type": "code",
   "execution_count": 167,
   "id": "aa15e6e7-e032-4484-b9fb-daead565499b",
   "metadata": {},
   "outputs": [
    {
     "data": {
      "image/png": "[encoded data removed]",
      "text/plain": [
       "<Figure size 800x800 with 1 Axes>"
      ]
     },
     "metadata": {},
     "output_type": "display_data"
    }
   ],
   "source": [
    "# Explode genres and count occurrences\n",
    "all_genres = df['genres'].str.split(',').explode().str.strip()\n",
    "genre_counts = all_genres.value_counts().head(10)  # Top 10 genres for clarity\n",
    "\n",
    "# Pie chart\n",
    "plt.figure(figsize=(8, 8))\n",
    "plt.pie(genre_counts, labels=genre_counts.index, autopct='%1.1f%%', startangle=140, colors=sns.color_palette('pastel'))\n",
    "plt.title('Top 10 Genres Distribution')\n",
    "plt.show()\n"
   ]
  },
  {
   "cell_type": "code",
   "execution_count": 171,
   "id": "933af7c7-5d2c-426d-b3d1-ebeff09b5c60",
   "metadata": {},
   "outputs": [
    {
     "data": {
      "text/html": [
       "<div>\n",
       "<style scoped>\n",
       "    .dataframe tbody tr th:only-of-type {\n",
       "        vertical-align: middle;\n",
       "    }\n",
       "\n",
       "    .dataframe tbody tr th {\n",
       "        vertical-align: top;\n",
       "    }\n",
       "\n",
       "    .dataframe thead th {\n",
       "        text-align: right;\n",
       "    }\n",
       "</style>\n",
       "<table border=\"1\" class=\"dataframe\">\n",
       "  <thead>\n",
       "    <tr style=\"text-align: right;\">\n",
       "      <th></th>\n",
       "      <th>Title</th>\n",
       "      <th>Type</th>\n",
       "      <th>genres</th>\n",
       "      <th>Release_Year</th>\n",
       "      <th>IMDB_Average_Rating</th>\n",
       "      <th>IMDB_Num_Votes</th>\n",
       "      <th>Available_Countries</th>\n",
       "      <th>FirstGenre</th>\n",
       "    </tr>\n",
       "  </thead>\n",
       "  <tbody>\n",
       "    <tr>\n",
       "      <th>0</th>\n",
       "      <td>Forrest Gump</td>\n",
       "      <td>movie</td>\n",
       "      <td>Drama, Romance</td>\n",
       "      <td>1994</td>\n",
       "      <td>8.8</td>\n",
       "      <td>2316353.0</td>\n",
       "      <td>MX</td>\n",
       "      <td>Drama</td>\n",
       "    </tr>\n",
       "    <tr>\n",
       "      <th>1</th>\n",
       "      <td>The Fifth Element</td>\n",
       "      <td>movie</td>\n",
       "      <td>Action, Adventure, Sci-Fi</td>\n",
       "      <td>1997</td>\n",
       "      <td>7.6</td>\n",
       "      <td>517121.0</td>\n",
       "      <td>AT, CH, DE</td>\n",
       "      <td>Action</td>\n",
       "    </tr>\n",
       "    <tr>\n",
       "      <th>2</th>\n",
       "      <td>Kill Bill: Vol. 1</td>\n",
       "      <td>movie</td>\n",
       "      <td>Action, Crime, Thriller</td>\n",
       "      <td>2003</td>\n",
       "      <td>8.2</td>\n",
       "      <td>1221791.0</td>\n",
       "      <td>AE, AL, AO, AT, AU, AZ, BG, BH, BY, CA, CI, CM...</td>\n",
       "      <td>Action</td>\n",
       "    </tr>\n",
       "    <tr>\n",
       "      <th>3</th>\n",
       "      <td>Jarhead</td>\n",
       "      <td>movie</td>\n",
       "      <td>Biography, Drama, War</td>\n",
       "      <td>2005</td>\n",
       "      <td>7.0</td>\n",
       "      <td>211547.0</td>\n",
       "      <td>AD, AE, AG, AL, AO, AR, AT, AZ, BA, BB, BG, BH...</td>\n",
       "      <td>Biography</td>\n",
       "    </tr>\n",
       "    <tr>\n",
       "      <th>4</th>\n",
       "      <td>Unforgiven</td>\n",
       "      <td>movie</td>\n",
       "      <td>Drama, Western</td>\n",
       "      <td>1992</td>\n",
       "      <td>8.2</td>\n",
       "      <td>443775.0</td>\n",
       "      <td>AU, BA, BG, CZ, HR, HU, MD, ME, MK, NZ, PL, RO...</td>\n",
       "      <td>Drama</td>\n",
       "    </tr>\n",
       "  </tbody>\n",
       "</table>\n",
       "</div>"
      ],
      "text/plain": [
       "               Title   Type                     genres  Release_Year  \\\n",
       "0       Forrest Gump  movie             Drama, Romance          1994   \n",
       "1  The Fifth Element  movie  Action, Adventure, Sci-Fi          1997   \n",
       "2  Kill Bill: Vol. 1  movie    Action, Crime, Thriller          2003   \n",
       "3            Jarhead  movie      Biography, Drama, War          2005   \n",
       "4         Unforgiven  movie             Drama, Western          1992   \n",
       "\n",
       "   IMDB_Average_Rating  IMDB_Num_Votes  \\\n",
       "0                  8.8       2316353.0   \n",
       "1                  7.6        517121.0   \n",
       "2                  8.2       1221791.0   \n",
       "3                  7.0        211547.0   \n",
       "4                  8.2        443775.0   \n",
       "\n",
       "                                 Available_Countries FirstGenre  \n",
       "0                                                 MX      Drama  \n",
       "1                                         AT, CH, DE     Action  \n",
       "2  AE, AL, AO, AT, AU, AZ, BG, BH, BY, CA, CI, CM...     Action  \n",
       "3  AD, AE, AG, AL, AO, AR, AT, AZ, BA, BB, BG, BH...  Biography  \n",
       "4  AU, BA, BG, CZ, HR, HU, MD, ME, MK, NZ, PL, RO...      Drama  "
      ]
     },
     "execution_count": 171,
     "metadata": {},
     "output_type": "execute_result"
    }
   ],
   "source": [
    "df.head()"
   ]
  },
  {
   "cell_type": "code",
   "execution_count": 177,
   "id": "34d78120-8bf1-4abd-911b-0e8ac6f3dbed",
   "metadata": {},
   "outputs": [
    {
     "data": {
      "text/plain": [
       "0        movie\n",
       "1        movie\n",
       "2        movie\n",
       "3        movie\n",
       "4        movie\n",
       "         ...  \n",
       "20143       tv\n",
       "20144       tv\n",
       "20145       tv\n",
       "20146       tv\n",
       "20147       tv\n",
       "Name: Type, Length: 20064, dtype: object"
      ]
     },
     "execution_count": 177,
     "metadata": {},
     "output_type": "execute_result"
    }
   ],
   "source": [
    "df['Type']"
   ]
  },
  {
   "cell_type": "code",
   "execution_count": 179,
   "id": "c7873c20-5807-497f-a56d-b7029a7a3abd",
   "metadata": {},
   "outputs": [
    {
     "data": {
      "image/png": "[encoded data removed]",
      "text/plain": [
       "<Figure size 1200x600 with 1 Axes>"
      ]
     },
     "metadata": {},
     "output_type": "display_data"
    }
   ],
   "source": [
    "import matplotlib.pyplot as plt\n",
    "import seaborn as sns\n",
    "\n",
    "# Explode 'genres' column\n",
    "df_exploded_genres = df.assign(genres=df['genres'].str.split(',')).explode('genres')\n",
    "df_exploded_genres['genres'] = df_exploded_genres['genres'].str.strip()\n",
    "\n",
    "# Calculate average ratings for each genre\n",
    "top_genres_ratings = df_exploded_genres.groupby('genres')['IMDB_Average_Rating'].mean().sort_values(ascending=False).head(10)\n",
    "\n",
    "# Plot horizontal bar chart\n",
    "plt.figure(figsize=(12, 6))\n",
    "sns.barplot(x=top_genres_ratings.values, y=top_genres_ratings.index, palette='viridis')\n",
    "\n",
    "# Add labels and title\n",
    "plt.title('Top 10 Popular Genres by Average IMDB Ratings', fontsize=16, fontweight='bold')\n",
    "plt.xlabel('Average IMDB Rating')\n",
    "plt.ylabel('Genres')\n",
    "\n",
    "# Display the chart\n",
    "plt.show()\n"
   ]
  },
  {
   "cell_type": "code",
   "execution_count": null,
   "id": "552a423b-8da2-463a-9467-ca9a0bfbf84e",
   "metadata": {},
   "outputs": [],
   "source": []
  },
  {
   "cell_type": "code",
   "execution_count": 189,
   "id": "0caaa4a9-e5a6-48b9-b309-737db0dc8264",
   "metadata": {},
   "outputs": [
    {
     "data": {
      "image/png": "[encoded data removed]",
      "text/plain": [
       "<Figure size 1000x500 with 1 Axes>"
      ]
     },
     "metadata": {},
     "output_type": "display_data"
    }
   ],
   "source": [
    "import matplotlib.pyplot as plt\n",
    "\n",
    "# Convert 'Type' column to lowercase for consistency\n",
    "df['Type'] = df['Type'].str.lower()\n",
    "\n",
    "# Count occurrences of 'movie' and 'tv'\n",
    "type_counts = df['Type'].value_counts()\n",
    "\n",
    "# Extract percentages\n",
    "movie_percentage = round((type_counts['movie'] / type_counts.sum()) * 100, 1)\n",
    "tv_percentage = round((type_counts['tv'] / type_counts.sum()) * 100, 1)\n",
    "\n",
    "# Data for the chart\n",
    "labels = ['Movie', 'TV']\n",
    "sizes = [movie_percentage, tv_percentage]\n",
    "colors = ['#B71C1C', '#333333']  # Red for Movies, Dark gray for TV\n",
    "\n",
    "# Create the figure\n",
    "fig, ax = plt.subplots(figsize=(10, 5))\n",
    "\n",
    "# Plot rectangles for proportions\n",
    "ax.barh(y=[0], width=sizes[0], color=colors[0], height=0.5, label='Movie')\n",
    "ax.barh(y=[0], width=sizes[1], left=sizes[0], color=colors[1], height=0.5, label='TV')\n",
    "\n",
    "# Add percentages as text inside the bars\n",
    "ax.text(s=f\"{sizes[0]}%\", x=sizes[0]/2, y=0, va='center', ha='center', fontsize=30, color='white', fontweight='bold')\n",
    "ax.text(s=f\"{sizes[1]}%\", x=sizes[0] + sizes[1]/2, y=0, va='center', ha='center', fontsize=30, color='white', fontweight='bold')\n",
    "\n",
    "# Remove axes for a clean look\n",
    "ax.axis('off')\n",
    "\n",
    "# Add the title\n",
    "plt.title('Movie & TV Distribution', fontsize=18, fontweight='bold', loc='left', y=1.1)\n",
    "plt.suptitle(\"We see the distribution of Movies and TV.\", fontsize=12, x=0.01, ha='left')\n",
    "\n",
    "# Display the plot\n",
    "plt.show()\n"
   ]
  },
  {
   "cell_type": "code",
   "execution_count": null,
   "id": "10092d17-9210-4433-b64d-e83b8bf33beb",
   "metadata": {},
   "outputs": [],
   "source": []
  }
 ],
 "metadata": {
  "kernelspec": {
   "display_name": "Python 3 (ipykernel)",
   "language": "python",
   "name": "python3"
  },
  "language_info": {
   "codemirror_mode": {
    "name": "ipython",
    "version": 3
   },
   "file_extension": ".py",
   "mimetype": "text/x-python",
   "name": "python",
   "nbconvert_exporter": "python",
   "pygments_lexer": "ipython3",
   "version": "3.12.4"
  }
 },
 "nbformat": 4,
 "nbformat_minor": 5
}

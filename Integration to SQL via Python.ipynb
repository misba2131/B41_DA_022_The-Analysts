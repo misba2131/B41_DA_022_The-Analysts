{
 "cells": [
  {
   "cell_type": "code",
   "execution_count": 2,
   "id": "f11a4992-dd4d-4996-bc57-b09f5d5a02af",
   "metadata": {},
   "outputs": [],
   "source": [
    "import pandas as pd\n",
    "import seaborn as sns\n",
    "import matplotlib.pyplot as plt\n",
    "import warnings\n",
    "warnings.filterwarnings('ignore')# filter out warnings"
   ]
  },
  {
   "cell_type": "code",
   "execution_count": 9,
   "id": "76aabc12-e947-4878-890e-3d1a232125c1",
   "metadata": {},
   "outputs": [
    {
     "data": {
      "text/html": [
       "<div>\n",
       "<style scoped>\n",
       "    .dataframe tbody tr th:only-of-type {\n",
       "        vertical-align: middle;\n",
       "    }\n",
       "\n",
       "    .dataframe tbody tr th {\n",
       "        vertical-align: top;\n",
       "    }\n",
       "\n",
       "    .dataframe thead th {\n",
       "        text-align: right;\n",
       "    }\n",
       "</style>\n",
       "<table border=\"1\" class=\"dataframe\">\n",
       "  <thead>\n",
       "    <tr style=\"text-align: right;\">\n",
       "      <th></th>\n",
       "      <th>title</th>\n",
       "      <th>type</th>\n",
       "      <th>genres</th>\n",
       "      <th>imdbAverageRating</th>\n",
       "      <th>imdbNumVotes</th>\n",
       "      <th>availableCountries</th>\n",
       "      <th>releaseyear</th>\n",
       "      <th>FirstGenre</th>\n",
       "    </tr>\n",
       "  </thead>\n",
       "  <tbody>\n",
       "    <tr>\n",
       "      <th>0</th>\n",
       "      <td>Forrest Gump</td>\n",
       "      <td>movie</td>\n",
       "      <td>Drama, Romance</td>\n",
       "      <td>8.8</td>\n",
       "      <td>2316353.0</td>\n",
       "      <td>MX</td>\n",
       "      <td>1994</td>\n",
       "      <td>Drama</td>\n",
       "    </tr>\n",
       "    <tr>\n",
       "      <th>1</th>\n",
       "      <td>The Fifth Element</td>\n",
       "      <td>movie</td>\n",
       "      <td>Action, Adventure, Sci-Fi</td>\n",
       "      <td>7.6</td>\n",
       "      <td>517121.0</td>\n",
       "      <td>AT, CH, DE</td>\n",
       "      <td>1997</td>\n",
       "      <td>Action</td>\n",
       "    </tr>\n",
       "    <tr>\n",
       "      <th>2</th>\n",
       "      <td>Kill Bill: Vol. 1</td>\n",
       "      <td>movie</td>\n",
       "      <td>Action, Crime, Thriller</td>\n",
       "      <td>8.2</td>\n",
       "      <td>1221791.0</td>\n",
       "      <td>AE, AL, AO, AT, AU, AZ, BG, BH, BY, CA, CI, CM...</td>\n",
       "      <td>2003</td>\n",
       "      <td>Action</td>\n",
       "    </tr>\n",
       "    <tr>\n",
       "      <th>3</th>\n",
       "      <td>Jarhead</td>\n",
       "      <td>movie</td>\n",
       "      <td>Biography, Drama, War</td>\n",
       "      <td>7.0</td>\n",
       "      <td>211547.0</td>\n",
       "      <td>AD, AE, AG, AL, AO, AR, AT, AZ, BA, BB, BG, BH...</td>\n",
       "      <td>2005</td>\n",
       "      <td>Biography</td>\n",
       "    </tr>\n",
       "    <tr>\n",
       "      <th>4</th>\n",
       "      <td>Unforgiven</td>\n",
       "      <td>movie</td>\n",
       "      <td>Drama, Western</td>\n",
       "      <td>8.2</td>\n",
       "      <td>443775.0</td>\n",
       "      <td>AU, BA, BG, CZ, HR, HU, MD, ME, MK, NZ, PL, RO...</td>\n",
       "      <td>1992</td>\n",
       "      <td>Drama</td>\n",
       "    </tr>\n",
       "  </tbody>\n",
       "</table>\n",
       "</div>"
      ],
      "text/plain": [
       "               title   type                     genres  imdbAverageRating  \\\n",
       "0       Forrest Gump  movie             Drama, Romance                8.8   \n",
       "1  The Fifth Element  movie  Action, Adventure, Sci-Fi                7.6   \n",
       "2  Kill Bill: Vol. 1  movie    Action, Crime, Thriller                8.2   \n",
       "3            Jarhead  movie      Biography, Drama, War                7.0   \n",
       "4         Unforgiven  movie             Drama, Western                8.2   \n",
       "\n",
       "   imdbNumVotes                                 availableCountries  \\\n",
       "0     2316353.0                                                 MX   \n",
       "1      517121.0                                         AT, CH, DE   \n",
       "2     1221791.0  AE, AL, AO, AT, AU, AZ, BG, BH, BY, CA, CI, CM...   \n",
       "3      211547.0  AD, AE, AG, AL, AO, AR, AT, AZ, BA, BB, BG, BH...   \n",
       "4      443775.0  AU, BA, BG, CZ, HR, HU, MD, ME, MK, NZ, PL, RO...   \n",
       "\n",
       "   releaseyear FirstGenre  \n",
       "0         1994      Drama  \n",
       "1         1997     Action  \n",
       "2         2003     Action  \n",
       "3         2005  Biography  \n",
       "4         1992      Drama  "
      ]
     },
     "execution_count": 9,
     "metadata": {},
     "output_type": "execute_result"
    }
   ],
   "source": [
    "df = pd.read_csv(\"D:/misbi masai/python.py/final_file.csv\")\n",
    "df.head()"
   ]
  },
  {
   "cell_type": "code",
   "execution_count": 10,
   "id": "2674a77c-4155-4def-85fa-31802f6b2850",
   "metadata": {},
   "outputs": [
    {
     "name": "stdout",
     "output_type": "stream",
     "text": [
      "<class 'pandas.core.frame.DataFrame'>\n",
      "RangeIndex: 19492 entries, 0 to 19491\n",
      "Data columns (total 8 columns):\n",
      " #   Column              Non-Null Count  Dtype  \n",
      "---  ------              --------------  -----  \n",
      " 0   title               19492 non-null  object \n",
      " 1   type                19492 non-null  object \n",
      " 2   genres              19492 non-null  object \n",
      " 3   imdbAverageRating   19492 non-null  float64\n",
      " 4   imdbNumVotes        19492 non-null  float64\n",
      " 5   availableCountries  19492 non-null  object \n",
      " 6   releaseyear         19492 non-null  int64  \n",
      " 7   FirstGenre          19492 non-null  object \n",
      "dtypes: float64(2), int64(1), object(5)\n",
      "memory usage: 1.2+ MB\n"
     ]
    }
   ],
   "source": [
    "df.info()"
   ]
  },
  {
   "cell_type": "code",
   "execution_count": 1,
   "id": "c607fb69-f3e5-4e80-b7ee-fafe19853c99",
   "metadata": {},
   "outputs": [
    {
     "data": {
      "text/plain": [
       "'mysql+mysqlconnector://<root>:<misba2131.>@<Localhost>:<3306>/<netflix>'"
      ]
     },
     "execution_count": 1,
     "metadata": {},
     "output_type": "execute_result"
    }
   ],
   "source": [
    "'mysql+mysqlconnector://<root>:<misba2131.>@<Localhost>:<3306>/<netflix>'\n"
   ]
  },
  {
   "cell_type": "code",
   "execution_count": 6,
   "id": "7598a32b-a13d-484a-9de6-f863a8557a59",
   "metadata": {},
   "outputs": [
    {
     "name": "stdout",
     "output_type": "stream",
     "text": [
      "Requirement already satisfied: mysql-connector-python in c:\\users\\user\\anaconda 3\\lib\\site-packages (9.1.0)\n",
      "Note: you may need to restart the kernel to use updated packages.\n"
     ]
    }
   ],
   "source": [
    "pip install mysql-connector-python"
   ]
  },
  {
   "cell_type": "code",
   "execution_count": 7,
   "id": "de3e12fd-386a-4208-a29e-b814611dea00",
   "metadata": {},
   "outputs": [
    {
     "name": "stdout",
     "output_type": "stream",
     "text": [
      "Requirement already satisfied: mysqlclient in c:\\users\\user\\anaconda 3\\lib\\site-packages (2.2.6)\n",
      "Note: you may need to restart the kernel to use updated packages.\n"
     ]
    }
   ],
   "source": [
    "pip install mysqlclient"
   ]
  },
  {
   "cell_type": "code",
   "execution_count": 8,
   "id": "b6ce0bc1-8814-4fe1-92cc-951112afbde1",
   "metadata": {},
   "outputs": [
    {
     "name": "stdout",
     "output_type": "stream",
     "text": [
      "Requirement already satisfied: PyMySQL in c:\\users\\user\\anaconda 3\\lib\\site-packages (1.1.1)\n",
      "Note: you may need to restart the kernel to use updated packages.\n"
     ]
    }
   ],
   "source": [
    "pip install PyMySQL"
   ]
  },
  {
   "cell_type": "code",
   "execution_count": 12,
   "id": "6c462bcb-5c6f-42d8-ac77-9ada9afd0d97",
   "metadata": {},
   "outputs": [
    {
     "data": {
      "text/plain": [
       "'mysql+mysqlconnector://<root>:<misba2131.>@<Localhost>:<3306>/<netflix>'"
      ]
     },
     "execution_count": 12,
     "metadata": {},
     "output_type": "execute_result"
    }
   ],
   "source": [
    "'mysql+mysqlconnector://<root>:<misba2131.>@<Localhost>:<3306>/<netflix>'"
   ]
  },
  {
   "cell_type": "code",
   "execution_count": 2,
   "id": "a377aacf-09c7-4fdd-a4fc-7e7ef17b029d",
   "metadata": {},
   "outputs": [
    {
     "name": "stdout",
     "output_type": "stream",
     "text": [
      "CSV file loaded successfully!\n",
      "Data successfully loaded into netflix table!\n"
     ]
    }
   ],
   "source": [
    "import pandas as pd\n",
    "from sqlalchemy import create_engine\n",
    "from sqlalchemy import create_engine\n",
    "# Configuration\n",
    "csv_file_path = \"Downloads/final_file.csv\"  # Path to your CSV file\n",
    "database_user = 'root'\n",
    "database_password = 'misba2131.'\n",
    "database_host = 'localhost'  # Change if using a remote host\n",
    "database_name = 'netflix'\n",
    "table_name = 'netflix'\n",
    "\n",
    "# Create the database engine\n",
    "engine = create_engine(f\"mysql+mysqlconnector://{database_user}:{database_password}@{database_host}/{database_name}\")\n",
    "\n",
    "# Load CSV into a DataFrame\n",
    "try:\n",
    "    # Try reading the CSV with an alternative encoding (e.g., 'ISO-8859-1' or 'latin1')\n",
    "    df = pd.read_csv(csv_file_path)\n",
    "    print(\"CSV file loaded successfully!\")\n",
    "except Exception as e:\n",
    "    print(f\"Error loading CSV file: {e}\")\n",
    "    exit()\n",
    "\n",
    "# Write data to MySQL database\n",
    "try:\n",
    "    # if_exists='replace' will drop the table if it exists and create a new one.\n",
    "    # Use if_exists='append' to add data to the existing table.\n",
    "    df.to_sql(table_name, con=engine, if_exists='replace', index=False)\n",
    "    print(f\"Data successfully loaded into {table_name} table!\")\n",
    "except Exception as e:\n",
    "    print(f\"Error writing to database: {e}\")\n"
   ]
  },
  {
   "cell_type": "code",
   "execution_count": null,
   "id": "afa136e2-8f5c-4cff-9add-fd3afbb9c10c",
   "metadata": {},
   "outputs": [],
   "source": []
  }
 ],
 "metadata": {
  "kernelspec": {
   "display_name": "Python 3 (ipykernel)",
   "language": "python",
   "name": "python3"
  },
  "language_info": {
   "codemirror_mode": {
    "name": "ipython",
    "version": 3
   },
   "file_extension": ".py",
   "mimetype": "text/x-python",
   "name": "python",
   "nbconvert_exporter": "python",
   "pygments_lexer": "ipython3",
   "version": "3.12.7"
  }
 },
 "nbformat": 4,
 "nbformat_minor": 5
}
